{
 "cells": [
  {
   "cell_type": "code",
   "execution_count": 17,
   "id": "75b1680d-0631-4e75-be38-9d90ed1fece2",
   "metadata": {
    "hide_input": false
   },
   "outputs": [],
   "source": [
    "%matplotlib widget\n",
    "import numpy as np\n",
    "import matplotlib.pyplot as plt\n",
    "import jupyros as jr\n",
    "import rospy\n",
    "from nav_msgs.msg import Odometry\n",
    "from matplotlib import animation, rc\n",
    "import rt2_assignment1.msg\n",
    "from geometry_msgs.msg import Twist\n",
    "from ipywidgets import Button, Layout, ButtonStyle, GridBox, VBox, HBox \n",
    "import ipywidgets as widgets\n",
    "from rt2_assignment1.srv import Command\n",
    "from IPython.display import display\n",
    "from tf import transformations\n",
    "import math\n",
    "\n",
    "rospy.init_node('robot_control_node')"
   ]
  },
  {
   "cell_type": "markdown",
   "id": "63f771bb",
   "metadata": {},
   "source": [
    "# start/stop the robot\n",
    "## user interface\n",
    "- starting/ stopping the robot \"random position\" behaviour by using two buttons"
   ]
  },
  {
   "cell_type": "code",
   "execution_count": 18,
   "id": "d975b655",
   "metadata": {},
   "outputs": [
    {
     "data": {
      "application/vnd.jupyter.widget-view+json": {
       "model_id": "d37a725365724f53b4485f5ec6cd1301",
       "version_major": 2,
       "version_minor": 0
      },
      "text/plain": [
       "HBox(children=(Button(description='start', layout=Layout(grid_area='b1', width='auto'), style=ButtonStyle(butt…"
      ]
     },
     "metadata": {},
     "output_type": "display_data"
    }
   ],
   "source": [
    "ui_client = rospy.ServiceProxy('/user_interface', Command)\n",
    "\n",
    "\n",
    "start_button = Button(description='start', layout=Layout(width='auto', align=\"center\", grid_area='b1'), style=ButtonStyle(button_color='lightblue')) \n",
    "\n",
    "\n",
    "stop_button = Button(description='stop', layout=Layout(width='auto', grid_area='b2'), style=ButtonStyle(button_color='moccasin')) \n",
    "\n",
    "output = widgets.Output() \n",
    "moving_random_pos=0\n",
    "\n",
    "def click_start(change):\n",
    "    global moving_random_pos\n",
    "    with output:\n",
    "        if moving_random_pos==0:\n",
    "            ui_client(\"start\")\n",
    "            print('the robot starts to move to the random position')\n",
    "            moving_random_pos=1\n",
    "        else:\n",
    "            print('the robot is going to the previous random position')\n",
    "        \n",
    "def click_stop(change):\n",
    "    global moving_random_pos\n",
    "    with output:\n",
    "        print('stop')\n",
    "        if moving_random_pos==1:\n",
    "            ui_client(\"stop\")\n",
    "            print('click the stop button')\n",
    "        moving_random_pos=0\n",
    "\n",
    "start_button.on_click(click_start)\n",
    "stop_button.on_click(click_stop)\n",
    "\n",
    "HBox([start_button,stop_button])"
   ]
  },
  {
   "cell_type": "markdown",
   "id": "3a560626",
   "metadata": {},
   "source": [
    "# set the cmd_vel\n",
    "- setting the linear and angular velocity by using two Sliders "
   ]
  },
  {
   "cell_type": "code",
   "execution_count": 19,
   "id": "93649f29",
   "metadata": {},
   "outputs": [
    {
     "data": {
      "application/vnd.jupyter.widget-view+json": {
       "model_id": "6f378b1c5165448c8e62365143c602e4",
       "version_major": 2,
       "version_minor": 0
      },
      "text/plain": [
       "FloatSlider(value=0.0, continuous_update=False, description='linear velocity:', max=1.0, min=-1.0, readout_for…"
      ]
     },
     "metadata": {},
     "output_type": "display_data"
    },
    {
     "data": {
      "application/vnd.jupyter.widget-view+json": {
       "model_id": "6c4b2906685c4a74a0e9c893e86f69a7",
       "version_major": 2,
       "version_minor": 0
      },
      "text/plain": [
       "FloatSlider(value=0.0, continuous_update=False, description='angular velocity:', max=1.0, min=-1.0, readout_fo…"
      ]
     },
     "metadata": {},
     "output_type": "display_data"
    }
   ],
   "source": [
    "msg = Twist()\n",
    "\n",
    "a = widgets.FloatSlider(\n",
    "    min=-1.0,\n",
    "    max=1.0,\n",
    "    step=0.1,\n",
    "    description='linear velocity:',\n",
    "    disabled=False,\n",
    "    continuous_update=False,\n",
    "    orientation='horizontal',\n",
    "    readout=True,\n",
    "    readout_format='.1f',)\n",
    "\n",
    "display(a)\n",
    "\n",
    "b = widgets.FloatSlider(\n",
    "    min=-1.0,\n",
    "    max=1.0,\n",
    "    step=0.1,\n",
    "    description='angular velocity:',\n",
    "    disabled=False,\n",
    "    continuous_update=False,\n",
    "    orientation='horizontal',\n",
    "    readout=True,\n",
    "    readout_format='.1f',)\n",
    "\n",
    "display(b)\n",
    "\n",
    "pub = rospy.Publisher('/cmd_vel', Twist, queue_size=1)\n",
    "\n",
    "def linear_vel_change(change):\n",
    "    global msg,moving_random_pos\n",
    "    if moving_random_pos==1:\n",
    "        print('the robot is going to the previous random position and the goal is canceled')\n",
    "        ui_client(\"stop\")\n",
    "        moving_random_pos=0\n",
    "    msg.linear.x = change['new']\n",
    "    pub.publish(msg)\n",
    "    \n",
    "def angular_vel_change(change):\n",
    "    global msg,moving_random_pos\n",
    "    if moving_random_pos==1:\n",
    "        print('the robot is going to the previous random position and the goal is canceled')\n",
    "        ui_client(\"stop\")\n",
    "        moving_random_pos=0\n",
    "    msg.angular.z = change['new']\n",
    "    pub.publish(msg)\n",
    "\n",
    "a.observe(linear_vel_change, names='value')\n",
    "b.observe(angular_vel_change, names='value')"
   ]
  },
  {
   "cell_type": "markdown",
   "id": "deca4a8a",
   "metadata": {},
   "source": [
    "#  robot controller\n",
    "- directly controlling the robot movements by using 5 Buttons, (forward, turn right, backward, turn left, stop), possibly placed in an intuitive fashion "
   ]
  },
  {
   "cell_type": "code",
   "execution_count": 20,
   "id": "df77c14d",
   "metadata": {
    "scrolled": true
   },
   "outputs": [
    {
     "data": {
      "application/vnd.jupyter.widget-view+json": {
       "model_id": "6f218bc014d44f1ba8cbd4f4e6bfc409",
       "version_major": 2,
       "version_minor": 0
      },
      "text/plain": [
       "GridBox(children=(Button(description='←', layout=Layout(grid_area='left', width='auto'), style=ButtonStyle(but…"
      ]
     },
     "metadata": {},
     "output_type": "display_data"
    }
   ],
   "source": [
    "left_button = Button(description='←', layout=Layout(width='auto', grid_area='left'), style=ButtonStyle(button_color='salmon')) \n",
    "up_button = Button(description='↑',layout=Layout(width='auto', grid_area='up'), style=ButtonStyle(button_color='salmon')) \n",
    "right_button = Button(description='→', layout=Layout(width='auto', grid_area='right'), style=ButtonStyle(button_color='salmon')) \n",
    "down_button = Button(description='↓', layout=Layout(width='auto', grid_area='down'), style=ButtonStyle(button_color='salmon')) \n",
    "\n",
    "def click_up(change):\n",
    "    global moving_random_pos,msg\n",
    "    print(\"Go straight\")\n",
    "    if moving_random_pos==1:\n",
    "        print('the robot is going to the previous random position and the goal is canceled')\n",
    "        ui_client(\"stop\")\n",
    "        moving_random_pos=0\n",
    "    msg.linear.x=0.5\n",
    "    msg.linear.y=0.0\n",
    "    msg.angular.z=0.0\n",
    "    pub.publish(msg)\n",
    "        \n",
    "def click_down(change):\n",
    "    global moving_random_pos,msg\n",
    "    print(\"Go back\")\n",
    "    if moving_random_pos==1:\n",
    "        print('the robot is going to the previous random position and the goal is canceled')\n",
    "        ui_client(\"stop\")\n",
    "        moving_random_pos=0\n",
    "    msg.linear.x=-0.5\n",
    "    msg.linear.y=0.0\n",
    "    msg.angular.z=0.0\n",
    "    pub.publish(msg)\n",
    "\n",
    "def click_right(change):\n",
    "    global moving_random_pos,msg\n",
    "    print(\"Go right\")\n",
    "    if moving_random_pos==1:\n",
    "        print('the robot is going to the previous random position and the goal is canceled')\n",
    "        ui_client(\"stop\")\n",
    "        moving_random_pos=0\n",
    "    msg.linear.x=0.1\n",
    "    msg.linear.y=0.0\n",
    "    msg.angular.z=0.5\n",
    "    pub.publish(msg)\n",
    "\n",
    "def click_left(change):\n",
    "    global moving_random_pos,msg\n",
    "    print(\"Go left\")\n",
    "    if moving_random_pos==1:\n",
    "        print('the robot is going to the previous random position and the goal is canceled')\n",
    "        ui_client(\"stop\")\n",
    "    moving_random_pos=0\n",
    "    msg.linear.x=0.1\n",
    "    msg.linear.y=0.0\n",
    "    msg.angular.z=-0.5\n",
    "    pub.publish(msg)\n",
    "            \n",
    "up_button.on_click(click_up)\n",
    "down_button.on_click(click_down)\n",
    "right_button.on_click(click_right)\n",
    "left_button.on_click(click_left)\n",
    "\n",
    "GridBox(children=[left_button,down_button,right_button, up_button], \n",
    "        layout=Layout( \n",
    "            width='20%', \n",
    "            grid_template_rows='auto auto', \n",
    "            grid_template_columns='33% 33% 33%', \n",
    "            grid_template_areas=''' \n",
    "            \"left up right\" \n",
    "            \". down . \" \n",
    "            ''') \n",
    "       ) "
   ]
  },
  {
   "cell_type": "markdown",
   "id": "2c8b5b4b",
   "metadata": {},
   "source": [
    "# visualize the trajectory of the robot\n",
    "- a line plot for visualizing cmd_vel vs. actual velocity (for linear and angular velocity) \n",
    "https://python.atelierkobato.com/annotate/\n",
    "https://www.it-swarm-ja.com/ja/python/python-matplotlib%E3%82%A2%E3%83%8B%E3%83%A1%E3%83%BC%E3%82%B7%E3%83%A7%E3%83%B3%E3%81%A7%E5%81%9C%E6%AD%A2%E9%96%8B%E5%A7%8B%E4%B8%80%E6%99%82%E5%81%9C%E6%AD%A2/1073484243/"
   ]
  },
  {
   "cell_type": "code",
   "execution_count": 21,
   "id": "fe03193f",
   "metadata": {},
   "outputs": [
    {
     "data": {
      "application/vnd.jupyter.widget-view+json": {
       "model_id": "5edda1fac054419aa8607421682bed4f",
       "version_major": 2,
       "version_minor": 0
      },
      "text/plain": [
       "Canvas(toolbar=Toolbar(toolitems=[('Home', 'Reset original view', 'home', 'home'), ('Back', 'Back to previous …"
      ]
     },
     "metadata": {},
     "output_type": "display_data"
    },
    {
     "name": "stderr",
     "output_type": "stream",
     "text": [
      "Removing previous callback, only one redirection possible right now\n"
     ]
    }
   ],
   "source": [
    "# First set up the figure and the axis \n",
    "fig, ax = plt.subplots()\n",
    "\n",
    "ax.set_xlim(( -5, 5))\n",
    "ax.set_ylim((-5, 5))\n",
    "\n",
    "\n",
    "line, = ax.plot([], [], 'ro')\n",
    "x_pos=0\n",
    "y_pos=0\n",
    "x_data=[]\n",
    "y_data=[]\n",
    "yaw=0\n",
    "\n",
    "def init():\n",
    "    line.set_data([], [])\n",
    "    return (line,)\n",
    "\n",
    "\n",
    "def odom_callback(msg):\n",
    "    global x_pos,y_pos\n",
    "    x_pos=msg.pose.pose.position.x\n",
    "    print(x_pos)\n",
    "    y_pos=msg.pose.pose.position.y\n",
    "    y_data.append(y_pos)\n",
    "    x_data.append(x_pos)\n",
    "    \n",
    "    quaternion = (\n",
    "        msg.pose.pose.orientation.x,\n",
    "        msg.pose.pose.orientation.y,\n",
    "        msg.pose.pose.orientation.z,\n",
    "        msg.pose.pose.orientation.w)\n",
    "    euler = transformations.euler_from_quaternion(quaternion)\n",
    "    yaw = euler[2]\n",
    "    \n",
    "\n",
    "def animate(i):\n",
    "    global x_pos,y_pos,yaw\n",
    "    line.set_data(x_data, y_data)\n",
    "    arrow = plt.Arrow(x=x_pos,y=y_pos,dx=math.cos(yaw),dy=math.sin(yaw),width=0.01,head_width=0.05,head_length=0.2,length_includes_head=True,color='k')\n",
    "    ax.add_patch(arrow)\n",
    "    return (line, arrow)\n",
    "\n",
    "\n",
    "\n",
    "jr.subscribe('/odom', Odometry, odom_callback)\n",
    "\n",
    "# call the animator. blit=True means only re-draw the parts that have changed.\n",
    "\n",
    "anim = animation.FuncAnimation(fig, animate, init_func=init,\n",
    "                               frames=100, interval=20, blit=True)"
   ]
  },
  {
   "cell_type": "code",
   "execution_count": 15,
   "id": "db4c3afd",
   "metadata": {},
   "outputs": [
    {
     "data": {
      "application/vnd.jupyter.widget-view+json": {
       "model_id": "8b4de67db89f4a8e82e67b3a86479768",
       "version_major": 2,
       "version_minor": 0
      },
      "text/plain": [
       "Canvas(toolbar=Toolbar(toolitems=[('Home', 'Reset original view', 'home', 'home'), ('Back', 'Back to previous …"
      ]
     },
     "metadata": {},
     "output_type": "display_data"
    },
    {
     "data": {
      "application/vnd.jupyter.widget-view+json": {
       "model_id": "05c83250ff8b42f59ffba5f13d3893e4",
       "version_major": 2,
       "version_minor": 0
      },
      "text/plain": [
       "Canvas(toolbar=Toolbar(toolitems=[('Home', 'Reset original view', 'home', 'home'), ('Back', 'Back to previous …"
      ]
     },
     "metadata": {},
     "output_type": "display_data"
    },
    {
     "data": {
      "application/vnd.jupyter.widget-view+json": {
       "model_id": "daa04153a22c49beb096a738dff74767",
       "version_major": 2,
       "version_minor": 0
      },
      "text/plain": [
       "Canvas(toolbar=Toolbar(toolitems=[('Home', 'Reset original view', 'home', 'home'), ('Back', 'Back to previous …"
      ]
     },
     "metadata": {},
     "output_type": "display_data"
    },
    {
     "ename": "ROSException",
     "evalue": "rospy.init_node() has already been called with different arguments: ('robot_control_node', ['/usr/local/lib/python3.8/dist-packages/ipykernel_launcher.py', '-f', '/root/.local/share/jupyter/runtime/kernel-9f7febbb-e5b1-412f-a1f7-d6e3e39af4a5.json'], False, None, False, False)",
     "output_type": "error",
     "traceback": [
      "\u001b[0;31m---------------------------------------------------------------------------\u001b[0m",
      "\u001b[0;31mROSException\u001b[0m                              Traceback (most recent call last)",
      "\u001b[0;32m<ipython-input-15-7910cc0e9d22>\u001b[0m in \u001b[0;36m<module>\u001b[0;34m\u001b[0m\n\u001b[1;32m     50\u001b[0m     \u001b[0;32mreturn\u001b[0m \u001b[0;34m(\u001b[0m\u001b[0mline\u001b[0m\u001b[0;34m,\u001b[0m \u001b[0marrow\u001b[0m\u001b[0;34m)\u001b[0m\u001b[0;34m\u001b[0m\u001b[0;34m\u001b[0m\u001b[0m\n\u001b[1;32m     51\u001b[0m \u001b[0;34m\u001b[0m\u001b[0m\n\u001b[0;32m---> 52\u001b[0;31m \u001b[0mrospy\u001b[0m\u001b[0;34m.\u001b[0m\u001b[0minit_node\u001b[0m\u001b[0;34m(\u001b[0m\u001b[0;34m'odom_visualizer_node'\u001b[0m\u001b[0;34m)\u001b[0m\u001b[0;34m\u001b[0m\u001b[0;34m\u001b[0m\u001b[0m\n\u001b[0m\u001b[1;32m     53\u001b[0m \u001b[0mjr\u001b[0m\u001b[0;34m.\u001b[0m\u001b[0msubscribe\u001b[0m\u001b[0;34m(\u001b[0m\u001b[0;34m'/odom'\u001b[0m\u001b[0;34m,\u001b[0m \u001b[0mOdometry\u001b[0m\u001b[0;34m,\u001b[0m \u001b[0modom_callback\u001b[0m\u001b[0;34m)\u001b[0m\u001b[0;34m\u001b[0m\u001b[0;34m\u001b[0m\u001b[0m\n\u001b[1;32m     54\u001b[0m \u001b[0;34m\u001b[0m\u001b[0m\n",
      "\u001b[0;32m/opt/ros/noetic/lib/python3/dist-packages/rospy/client.py\u001b[0m in \u001b[0;36minit_node\u001b[0;34m(name, argv, anonymous, log_level, disable_rostime, disable_rosout, disable_signals, xmlrpc_port, tcpros_port)\u001b[0m\n\u001b[1;32m    272\u001b[0m     \u001b[0;32mif\u001b[0m \u001b[0m_init_node_args\u001b[0m\u001b[0;34m:\u001b[0m\u001b[0;34m\u001b[0m\u001b[0;34m\u001b[0m\u001b[0m\n\u001b[1;32m    273\u001b[0m         \u001b[0;32mif\u001b[0m \u001b[0m_init_node_args\u001b[0m \u001b[0;34m!=\u001b[0m \u001b[0;34m(\u001b[0m\u001b[0mname\u001b[0m\u001b[0;34m,\u001b[0m \u001b[0margv\u001b[0m\u001b[0;34m,\u001b[0m \u001b[0manonymous\u001b[0m\u001b[0;34m,\u001b[0m \u001b[0mlog_level\u001b[0m\u001b[0;34m,\u001b[0m \u001b[0mdisable_rostime\u001b[0m\u001b[0;34m,\u001b[0m \u001b[0mdisable_signals\u001b[0m\u001b[0;34m)\u001b[0m\u001b[0;34m:\u001b[0m\u001b[0;34m\u001b[0m\u001b[0;34m\u001b[0m\u001b[0m\n\u001b[0;32m--> 274\u001b[0;31m             \u001b[0;32mraise\u001b[0m \u001b[0mrospy\u001b[0m\u001b[0;34m.\u001b[0m\u001b[0mexceptions\u001b[0m\u001b[0;34m.\u001b[0m\u001b[0mROSException\u001b[0m\u001b[0;34m(\u001b[0m\u001b[0;34m\"rospy.init_node() has already been called with different arguments: \"\u001b[0m\u001b[0;34m+\u001b[0m\u001b[0mstr\u001b[0m\u001b[0;34m(\u001b[0m\u001b[0m_init_node_args\u001b[0m\u001b[0;34m)\u001b[0m\u001b[0;34m)\u001b[0m\u001b[0;34m\u001b[0m\u001b[0;34m\u001b[0m\u001b[0m\n\u001b[0m\u001b[1;32m    275\u001b[0m         \u001b[0;32melse\u001b[0m\u001b[0;34m:\u001b[0m\u001b[0;34m\u001b[0m\u001b[0;34m\u001b[0m\u001b[0m\n\u001b[1;32m    276\u001b[0m             \u001b[0;32mreturn\u001b[0m \u001b[0;31m#already initialized\u001b[0m\u001b[0;34m\u001b[0m\u001b[0;34m\u001b[0m\u001b[0m\n",
      "\u001b[0;31mROSException\u001b[0m: rospy.init_node() has already been called with different arguments: ('robot_control_node', ['/usr/local/lib/python3.8/dist-packages/ipykernel_launcher.py', '-f', '/root/.local/share/jupyter/runtime/kernel-9f7febbb-e5b1-412f-a1f7-d6e3e39af4a5.json'], False, None, False, False)"
     ]
    }
   ],
   "source": [
    "# First set up the figures and the axis \n",
    "    # Robot position and orientation\n",
    "fig, ax = plt.subplots()\n",
    "ax.set_xlim(( -5, 5))\n",
    "ax.set_ylim((-5, 5))\n",
    "plt.xlabel(\"X\")\n",
    "plt.ylabel(\"Y\")\n",
    "plt.title(\"Robot positon\")\n",
    "line, = ax.plot([], [], 'ro')\n",
    "x_data = []\n",
    "y_data = []\n",
    "theta_data = []\n",
    "\n",
    "    # Velocity feedback\n",
    "fig_vel, ax_vel = plt.subplots()\n",
    "plt.title(\"Velocity check\")\n",
    "velocity_set = []\n",
    "velocity_real = []\n",
    "angular_set = []\n",
    "angular_real = []\n",
    "    \n",
    "    \n",
    "    \n",
    "    # Boxplot of target reached\n",
    "fig_bp, ax_bp = plt.subplots()\n",
    "plt.title(\"Target  reached\")\n",
    "target_reached = []\n",
    "target_cancelled = []\n",
    "\n",
    "    # Histogram for time required for reaching a target\n",
    "\n",
    "def init():\n",
    "    line.set_data([], [])\n",
    "    return (line,)\n",
    "\n",
    "def odom_callback(msg):\n",
    "    y_data.append(msg.pose.pose.position.y)\n",
    "    x_data.append(msg.pose.pose.position.x)\n",
    "    quaternion = (msg.pose.pose.orientation.x, msg.pose.pose.orientation.y,msg.pose.pose.orientation.z, msg.pose.pose.orientation.w)\n",
    "    euler_angles = euler_from_quaternion(quaternion)\n",
    "    theta_data.append(euler_angles[2])    \n",
    "    \n",
    "def animate(i):\n",
    "    global arrow \n",
    "    line.set_data(x_data, y_data)\n",
    "    #ax.patches.remove(arrow)\n",
    "    \n",
    "    arrow = plt.Arrow(x_data[-1], y_data[-1], dx=np.cos(theta_data[-1]), dy=np.sin(theta_data[-1]), width=0.1, color='red')\n",
    "    ax.add_patch(arrow)\n",
    "    return (line, arrow)\n",
    "\n",
    "rospy.init_node('odom_visualizer_node')\n",
    "jr.subscribe('/odom', Odometry, odom_callback)\n",
    "\n",
    "# call the animator. blit=True means only re-draw the parts that have changed.)\n",
    "\n",
    "anim = animation.FuncAnimation(fig, animate, init_func=init,frames=100, interval=20, blit=True)"
   ]
  },
  {
   "cell_type": "code",
   "execution_count": null,
   "id": "d7db49c2",
   "metadata": {},
   "outputs": [],
   "source": []
  },
  {
   "cell_type": "code",
   "execution_count": null,
   "id": "d3f3429d",
   "metadata": {},
   "outputs": [],
   "source": []
  },
  {
   "cell_type": "code",
   "execution_count": null,
   "id": "6b057781",
   "metadata": {},
   "outputs": [],
   "source": []
  },
  {
   "cell_type": "code",
   "execution_count": null,
   "id": "444cd92a",
   "metadata": {},
   "outputs": [],
   "source": []
  }
 ],
 "metadata": {
  "hide_input": false,
  "kernelspec": {
   "display_name": "Python 3",
   "language": "python",
   "name": "python3"
  },
  "language_info": {
   "codemirror_mode": {
    "name": "ipython",
    "version": 3
   },
   "file_extension": ".py",
   "mimetype": "text/x-python",
   "name": "python",
   "nbconvert_exporter": "python",
   "pygments_lexer": "ipython3",
   "version": "3.8.5"
  },
  "toc": {
   "base_numbering": 1,
   "nav_menu": {},
   "number_sections": true,
   "sideBar": true,
   "skip_h1_title": false,
   "title_cell": "Table of Contents",
   "title_sidebar": "Contents",
   "toc_cell": false,
   "toc_position": {},
   "toc_section_display": true,
   "toc_window_display": false
  },
  "varInspector": {
   "cols": {
    "lenName": 16,
    "lenType": 16,
    "lenVar": 40
   },
   "kernels_config": {
    "python": {
     "delete_cmd_postfix": "",
     "delete_cmd_prefix": "del ",
     "library": "var_list.py",
     "varRefreshCmd": "print(var_dic_list())"
    },
    "r": {
     "delete_cmd_postfix": ") ",
     "delete_cmd_prefix": "rm(",
     "library": "var_list.r",
     "varRefreshCmd": "cat(var_dic_list()) "
    }
   },
   "position": {
    "height": "630px",
    "left": "1483px",
    "right": "20px",
    "top": "120px",
    "width": "350px"
   },
   "types_to_exclude": [
    "module",
    "function",
    "builtin_function_or_method",
    "instance",
    "_Feature"
   ],
   "window_display": true
  }
 },
 "nbformat": 4,
 "nbformat_minor": 5
}
