{
 "cells": [
  {
   "cell_type": "markdown",
   "id": "73a947ef",
   "metadata": {},
   "source": [
    "# Visuliazation of some paramaters of robot\n",
    "- this jupyter notbook show the variables related to the robot\n"
   ]
  },
  {
   "cell_type": "markdown",
   "id": "bd166e9b",
   "metadata": {},
   "source": [
    "## import"
   ]
  },
  {
   "cell_type": "code",
   "execution_count": 1,
   "id": "5aacb90a",
   "metadata": {
    "ExecuteTime": {
     "end_time": "2021-07-24T15:54:16.107515Z",
     "start_time": "2021-07-24T15:54:15.175109Z"
    }
   },
   "outputs": [],
   "source": [
    "%matplotlib widget\n",
    "import numpy as np\n",
    "import matplotlib.pyplot as plt\n",
    "import jupyros as jr\n",
    "import rospy\n",
    "from nav_msgs.msg import Odometry\n",
    "from matplotlib import animation, rc\n",
    "import rt2_assignment1.msg\n",
    "from geometry_msgs.msg import Twist\n",
    "from std_msgs.msg import Float32\n",
    "from ipywidgets import Button, Layout, ButtonStyle, GridBox, VBox, HBox \n",
    "import ipywidgets as widgets\n",
    "from rt2_assignment1.srv import Command\n",
    "from IPython.display import display\n",
    "from tf import transformations\n",
    "import actionlib\n",
    "import actionlib.msg\n",
    "import collections\n",
    "import math\n",
    "\n",
    "rospy.init_node('visualized_node')"
   ]
  },
  {
   "cell_type": "markdown",
   "id": "0a41d6e3",
   "metadata": {},
   "source": [
    "## display the movemennt of the robot"
   ]
  },
  {
   "cell_type": "markdown",
   "id": "a8c70c8e",
   "metadata": {},
   "source": [
    "- an xy graph showing the robot’s position and the orientation "
   ]
  },
  {
   "cell_type": "code",
   "execution_count": 2,
   "id": "640528ad",
   "metadata": {
    "ExecuteTime": {
     "end_time": "2021-07-24T15:54:16.940601Z",
     "start_time": "2021-07-24T15:54:16.824542Z"
    }
   },
   "outputs": [
    {
     "data": {
      "application/vnd.jupyter.widget-view+json": {
       "model_id": "3fa3c49f191e4db48fcbc36bd73b15ff",
       "version_major": 2,
       "version_minor": 0
      },
      "text/plain": [
       "Canvas(toolbar=Toolbar(toolitems=[('Home', 'Reset original view', 'home', 'home'), ('Back', 'Back to previous …"
      ]
     },
     "metadata": {},
     "output_type": "display_data"
    }
   ],
   "source": [
    "# First set up the figure and the axis \n",
    "fig, ax = plt.subplots()\n",
    "\n",
    "ax.set_xlim(( -10, 10))\n",
    "ax.set_ylim((-10, 10))\n",
    "plt.xlabel(\"X\")\n",
    "plt.ylabel(\"Y\")\n",
    "plt.title(\"Robot positon\")\n",
    "\n",
    "line, = ax.plot([], [], 'ro')\n",
    "x_pos=0\n",
    "y_pos=0\n",
    "x_data=collections.deque(maxlen=300)\n",
    "y_data=collections.deque(maxlen=300)\n",
    "yaw=0\n",
    "theta=collections.deque(maxlen=300)\n",
    "arrow = ax.quiver(1,1,1,1, alpha = 0)\n",
    "actual_linear_vel=[]\n",
    "actual_angular_vel=[]\n",
    "\n",
    "def init():\n",
    "    line.set_data([], [])\n",
    "    return (line,)\n",
    "\n",
    "\n",
    "def odom_callback(msg):\n",
    "    global x_data,y_data,yaw,theta,actual_linear_vel,actual_angular_vel\n",
    "    x_pos=msg.pose.pose.position.x\n",
    "    print(x_pos)\n",
    "    y_pos=msg.pose.pose.position.y\n",
    "    y_data.append(y_pos)\n",
    "    x_data.append(x_pos)\n",
    "\n",
    "    quaternion = (\n",
    "        msg.pose.pose.orientation.x,\n",
    "        msg.pose.pose.orientation.y,\n",
    "        msg.pose.pose.orientation.z,\n",
    "        msg.pose.pose.orientation.w)\n",
    "    euler = transformations.euler_from_quaternion(quaternion)\n",
    "    yaw = euler[2]\n",
    "    theta.append(yaw)\n",
    "    actual_linear_vel.append(msg.twist.twist.linear.x)\n",
    "    actual_angular_vel.append(msg.twist.twist.linear.z)\n",
    "    \n",
    "def animate(i):\n",
    "    global x_data,y_data,yaw,arrow,theta\n",
    "    global arrow\n",
    "    arrow.remove()\n",
    "    line.set_data(x_data, y_data)\n",
    "    \n",
    "#     point = {\n",
    "#         'start': [x_data[-1], y_data[-1]],\n",
    "#         'end': [x_data[-1]+x_data[-1]*math.cos(yaw), y_data[-1]+y_data[-1]*math.sin(yaw)]\n",
    "#     }\n",
    "#     arrow = plt.Arrow(x=x_pos,y=y_pos,dx=10*np.cos(yaw),dy=10*np.cos(yaw),width=0.01,head_width=0.05,head_length=0.2,length_includes_head=True,color='k')\n",
    "#     arrow=ax.annotate('', xy=point['end'], xytext=point['start'],\n",
    "#                 arrowprops=dict(shrink=0, width=1, headwidth=8, \n",
    "#                                 headlength=10, connectionstyle='arc3',\n",
    "#                                 facecolor='gray', edgecolor='gray')\n",
    "#                )\n",
    "#     ax.add_patch(arrow)\n",
    "    delta=0.2\n",
    "    x = x_data[-1]+delta*np.cos(theta[-1])\n",
    "    y = y_data[-1]+delta*np.sin(theta[-1])\n",
    "    a = np.cos(theta[-1])++delta*np.cos(theta[-1]) \n",
    "    b = np.sin(theta[-1])+delta*np.sin(theta[-1])\n",
    "    arrow = ax.quiver(x, y, a, b,scale = 0.5, color='k', pivot = 'tail', units='xy', alpha=0.6, edgecolor = 'black')\n",
    "    \n",
    "    return (line,arrow)\n",
    "\n",
    "\n",
    "\n",
    "jr.subscribe('/odom', Odometry, odom_callback)\n",
    "\n",
    "# call the animator. blit=True means only re-draw the parts that have changed.\n",
    "\n",
    "anim = animation.FuncAnimation(fig, animate, init_func=init, blit=True)"
   ]
  },
  {
   "cell_type": "markdown",
   "id": "7d5b1bb8",
   "metadata": {},
   "source": [
    "## compare the actual velocity with cmd_vel"
   ]
  },
  {
   "cell_type": "markdown",
   "id": "a8c1150c",
   "metadata": {},
   "source": [
    "- a line plot for visualizing cmd_vel vs. actual velocity (for linear and angular velocity)"
   ]
  },
  {
   "cell_type": "code",
   "execution_count": 3,
   "id": "065473e4",
   "metadata": {
    "ExecuteTime": {
     "end_time": "2021-07-24T15:54:18.652992Z",
     "start_time": "2021-07-24T15:54:18.554526Z"
    }
   },
   "outputs": [
    {
     "data": {
      "application/vnd.jupyter.widget-view+json": {
       "model_id": "becb91636acf48ea9fef186424468c08",
       "version_major": 2,
       "version_minor": 0
      },
      "text/plain": [
       "Canvas(toolbar=Toolbar(toolitems=[('Home', 'Reset original view', 'home', 'home'), ('Back', 'Back to previous …"
      ]
     },
     "metadata": {},
     "output_type": "display_data"
    }
   ],
   "source": [
    "fig1, ax1 = plt.subplots()\n",
    "\n",
    "ax1.set_xlim(( 0, 100))\n",
    "ax1.set_ylim((-1.2, 1.2))\n",
    "\n",
    "linear_cmd_vel=[]\n",
    "angular_cmd_vel=[]\n",
    "\n",
    "\n",
    "time=[]\n",
    "\n",
    "line1, = ax1.plot([], [], 'r-')\n",
    "line2, = ax1.plot([], [], 'b-')\n",
    "line3, = ax1.plot([], [], 'k*')\n",
    "line4, = ax1.plot([], [], 'y*')\n",
    "zero_time = rospy.get_time()\n",
    "\n",
    "def init1():\n",
    "    line1.set_data([], [])\n",
    "    line2.set_data([], [])\n",
    "    line3.set_data([], [])\n",
    "    line4.set_data([], [])\n",
    "    return (line1,line2,line3,line4)\n",
    "\n",
    "def twist_callback(msg):\n",
    "    global linear_cmd_vel,angular_cmd_vel,zero_time,time\n",
    "    linear_cmd_vel.append(msg.linear.x)\n",
    "    angular_cmd_vel.append(msg.angular.z)\n",
    "    time.append(rospy.get_time()-zero_time)\n",
    "\n",
    "def animate1(i):\n",
    "    global linear_cmd_vel,angular_cmd_vel,time,actual_linear_vel,actual_angular_vel\n",
    "    line1.set_data(time,linear_cmd_vel)\n",
    "    line2.set_data(time, angular_cmd_vel)\n",
    "    line3.set_data(time, actual_linear_vel)\n",
    "    line4.set_data(time, actual_angular_vel)\n",
    "\n",
    "    return (line1,line2,line3,line4)\n",
    "\n",
    "jr.subscribe('/cmd_vel', Twist, twist_callback)\n",
    "\n",
    "anim = animation.FuncAnimation(fig1, animate1, init_func=init1,\n",
    "                               frames=100, interval=20, blit=True)"
   ]
  },
  {
   "cell_type": "code",
   "execution_count": null,
   "id": "a60e4934",
   "metadata": {},
   "outputs": [],
   "source": []
  },
  {
   "cell_type": "markdown",
   "id": "27b73e17",
   "metadata": {},
   "source": [
    "- a boxplot displaying the number of reached targets and cancelled targets\n"
   ]
  },
  {
   "cell_type": "markdown",
   "id": "ec1ad772",
   "metadata": {
    "ExecuteTime": {
     "start_time": "2021-07-24T16:12:34.848Z"
    }
   },
   "source": [
    "## display the robot status\n",
    "- a boxplot displaying the number of reached targets and cancelled targets\n",
    "- subscribe /go_to_point/result and update the number of goal and cancel"
   ]
  },
  {
   "cell_type": "code",
   "execution_count": null,
   "id": "e3f48b6a",
   "metadata": {
    "ExecuteTime": {
     "start_time": "2021-07-24T16:16:57.493Z"
    }
   },
   "outputs": [],
   "source": [
    "ngoal=0\n",
    "ncancel=0\n",
    "fig2, ax2 = plt.subplots()\n",
    "\n",
    "ax2.set_xlim(( 0, 2))\n",
    "ax2.set_ylim((0.0, 10))\n",
    "\n",
    "def result_callback(msg):\n",
    "    global ngoal, ncancel\n",
    "    if msg.result.reached==True:\n",
    "        ngoal=ngoal+1\n",
    "        print(ngoal)\n",
    "    #elif msg.result.reached==False:\n",
    "    else:\n",
    "        ncancel=ncancel+1\n",
    "\n",
    "def animate2(i):\n",
    "    global ngoal,ncancel\n",
    "    index=1\n",
    "    ax2.bar(index,ngoal,label=\"the number of goal\", align=\"center\", color='blue', width=0.35)\n",
    "    ax2.bar(index+0.35, ncancel, align='center', width=0.35,color='r', label='the number of cancel') \n",
    "        \n",
    "jr.subscribe('/go_to_point/result', rt2_assignment1.msg.MotionActionResult, result_callback)\n",
    "\n",
    "anim = animation.FuncAnimation(fig2, animate2, \n",
    "                               frames=100, interval=20,blit=True)"
   ]
  },
  {
   "cell_type": "code",
   "execution_count": null,
   "id": "b177c05c",
   "metadata": {
    "ExecuteTime": {
     "start_time": "2021-07-24T03:02:39.609Z"
    }
   },
   "outputs": [],
   "source": [
    "print(ngoal)"
   ]
  },
  {
   "cell_type": "markdown",
   "id": "5f524efd",
   "metadata": {},
   "source": [
    "## show the required time to reach goals\n",
    "- a hist plot showing the time required to reach targets\n",
    "- prepare the topic /reached_time"
   ]
  },
  {
   "cell_type": "code",
   "execution_count": null,
   "id": "280feebd",
   "metadata": {
    "ExecuteTime": {
     "start_time": "2021-07-24T03:02:40.435Z"
    }
   },
   "outputs": [],
   "source": [
    "fig3, ax3 = plt.subplots()\n",
    "ax3.set_ylim((0.0, 5))\n",
    "goal_time_array=[]\n",
    "index=0\n",
    "def init3():\n",
    "    print('init')\n",
    "def reached_callback(msg):\n",
    "    global goal_time_array\n",
    "    goal_time_array.append(msg.data)\n",
    "    print(goal_time_array)\n",
    "    \n",
    "def animate3(i):\n",
    "    global goal_time_array\n",
    "    ax3.hist(goal_time_array,bins=10, align='mid',ec=\"yellow\", fc=\"green\", alpha=0.5) \n",
    "\n",
    "\n",
    "jr.subscribe('/reached_time', Float32 , reached_callback)\n",
    "\n",
    "anim = animation.FuncAnimation(fig3, animate3,init_func=init3, \n",
    "                               frames=100, interval=200,blit=True)"
   ]
  },
  {
   "cell_type": "code",
   "execution_count": null,
   "id": "f9ddca43",
   "metadata": {
    "ExecuteTime": {
     "start_time": "2021-07-24T03:02:54.818Z"
    }
   },
   "outputs": [],
   "source": []
  },
  {
   "cell_type": "code",
   "execution_count": null,
   "id": "a9d210c2",
   "metadata": {
    "hide_input": true
   },
   "outputs": [],
   "source": []
  },
  {
   "cell_type": "code",
   "execution_count": null,
   "id": "e5ee5a0a",
   "metadata": {},
   "outputs": [],
   "source": []
  }
 ],
 "metadata": {
  "hide_input": false,
  "kernelspec": {
   "display_name": "Python 3 (ipykernel)",
   "language": "python",
   "name": "python3"
  },
  "language_info": {
   "codemirror_mode": {
    "name": "ipython",
    "version": 3
   },
   "file_extension": ".py",
   "mimetype": "text/x-python",
   "name": "python",
   "nbconvert_exporter": "python",
   "pygments_lexer": "ipython3",
   "version": "3.8.5"
  },
  "toc": {
   "base_numbering": 1,
   "nav_menu": {},
   "number_sections": true,
   "sideBar": true,
   "skip_h1_title": false,
   "title_cell": "Table of Contents",
   "title_sidebar": "Contents",
   "toc_cell": false,
   "toc_position": {
    "height": "calc(100% - 180px)",
    "left": "10px",
    "top": "150px",
    "width": "165px"
   },
   "toc_section_display": true,
   "toc_window_display": true
  },
  "varInspector": {
   "cols": {
    "lenName": 16,
    "lenType": 16,
    "lenVar": 40
   },
   "kernels_config": {
    "python": {
     "delete_cmd_postfix": "",
     "delete_cmd_prefix": "del ",
     "library": "var_list.py",
     "varRefreshCmd": "print(var_dic_list())"
    },
    "r": {
     "delete_cmd_postfix": ") ",
     "delete_cmd_prefix": "rm(",
     "library": "var_list.r",
     "varRefreshCmd": "cat(var_dic_list()) "
    }
   },
   "position": {
    "height": "757.688px",
    "left": "1392.52px",
    "right": "20px",
    "top": "99.9688px",
    "width": "364px"
   },
   "types_to_exclude": [
    "module",
    "function",
    "builtin_function_or_method",
    "instance",
    "_Feature"
   ],
   "window_display": true
  }
 },
 "nbformat": 4,
 "nbformat_minor": 5
}
