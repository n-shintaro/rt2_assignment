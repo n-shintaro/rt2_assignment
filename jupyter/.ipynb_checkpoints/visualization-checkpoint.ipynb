{
 "cells": [
  {
   "cell_type": "code",
   "execution_count": 1,
   "id": "1cd1f797",
   "metadata": {},
   "outputs": [],
   "source": [
    "%matplotlib widget\n",
    "import numpy as np\n",
    "import matplotlib.pyplot as plt\n",
    "import jupyros as jr\n",
    "import rospy\n",
    "from nav_msgs.msg import Odometry\n",
    "from matplotlib import animation, rc\n",
    "import rt2_assignment1.msg\n",
    "from geometry_msgs.msg import Twist\n",
    "from ipywidgets import Button, Layout, ButtonStyle, GridBox, VBox, HBox \n",
    "import ipywidgets as widgets\n",
    "from rt2_assignment1.srv import Command\n",
    "from IPython.display import display\n",
    "from tf import transformations\n",
    "import math\n",
    "\n",
    "rospy.init_node('visualized_node')"
   ]
  },
  {
   "cell_type": "markdown",
   "id": "1af1f428",
   "metadata": {},
   "source": [
    "# visualize the trajectory of the robot\n",
    "- a line plot for visualizing cmd_vel vs. actual velocity (for linear and angular velocity) \n",
    "https://python.atelierkobato.com/annotate/\n",
    "https://www.it-swarm-ja.com/ja/python/python-matplotlib%E3%82%A2%E3%83%8B%E3%83%A1%E3%83%BC%E3%82%B7%E3%83%A7%E3%83%B3%E3%81%A7%E5%81%9C%E6%AD%A2%E9%96%8B%E5%A7%8B%E4%B8%80%E6%99%82%E5%81%9C%E6%AD%A2/1073484243/"
   ]
  },
  {
   "cell_type": "code",
   "execution_count": null,
   "id": "54a02cf9",
   "metadata": {},
   "outputs": [],
   "source": []
  },
  {
   "cell_type": "markdown",
   "id": "a8c70c8e",
   "metadata": {},
   "source": [
    "- an xy graph showing the robot’s position and the orientation "
   ]
  },
  {
   "cell_type": "code",
   "execution_count": null,
   "id": "640528ad",
   "metadata": {},
   "outputs": [],
   "source": [
    "# First set up the figure and the axis \n",
    "fig, ax = plt.subplots()\n",
    "\n",
    "ax.set_xlim(( -5, 5))\n",
    "ax.set_ylim((-5, 5))\n",
    "\n",
    "\n",
    "line, = ax.plot([], [], 'ro')\n",
    "x_pos=0\n",
    "y_pos=0\n",
    "x_data=[]\n",
    "y_data=[]\n",
    "yaw=0\n",
    "theta=[]\n",
    "actual_linear_vel=[]\n",
    "actual_angular_vel=[]\n",
    "interation=0\n",
    "\n",
    "def init():\n",
    "    line.set_data([], [])\n",
    "    return (line,)\n",
    "\n",
    "\n",
    "def odom_callback(msg):\n",
    "    global x_pos,y_pos,theta,actual_linear_vel,interation\n",
    "    x_pos=msg.pose.pose.position.x\n",
    "    print(x_pos)\n",
    "    y_pos=msg.pose.pose.position.y\n",
    "    y_data.append(y_pos)\n",
    "    x_data.append(x_pos)\n",
    "    if interation>110:\n",
    "        dx=x_data[-1]-x_data[-10]\n",
    "        dy=y_data[-1]-y_data[-10]\n",
    "        \n",
    "    else:\n",
    "        dx=0\n",
    "        dy=0\n",
    "    interation+=1\n",
    "    #linear_vel=math.sqrt(dx**2+dy**2)\n",
    "    #print(\"linear_vel\"+str(linear_vel))\n",
    "    #actual_linear_vel=actual_linear_vel.append(np.sqrt(dx**2+dy**2))\n",
    "    quaternion = (\n",
    "        msg.pose.pose.orientation.x,\n",
    "        msg.pose.pose.orientation.y,\n",
    "        msg.pose.pose.orientation.z,\n",
    "        msg.pose.pose.orientation.w)\n",
    "    euler = transformations.euler_from_quaternion(quaternion)\n",
    "    yaw = euler[2]\n",
    "    theta.append(yaw)\n",
    "    \n",
    "\n",
    "def animate(i):\n",
    "    global x_pos,y_pos,yaw\n",
    "    line.set_data(x_data, y_data)\n",
    "    arrow = plt.Arrow(x=x_pos,y=y_pos,dx=np.cos(yaw),dy=np.sin(yaw),width=0.01,head_width=0.05,head_length=0.2,length_includes_head=True,color='k')\n",
    "    ax.add_patch(arrow)\n",
    "    return (line, arrow)\n",
    "\n",
    "\n",
    "\n",
    "jr.subscribe('/odom', Odometry, odom_callback)\n",
    "\n",
    "# call the animator. blit=True means only re-draw the parts that have changed.\n",
    "\n",
    "anim = animation.FuncAnimation(fig, animate, init_func=init,\n",
    "                               frames=100, interval=20, blit=True)"
   ]
  },
  {
   "cell_type": "markdown",
   "id": "a8c1150c",
   "metadata": {},
   "source": [
    "- a line plot for visualizing cmd_vel vs. actual velocity (for linear and angular velocity)"
   ]
  },
  {
   "cell_type": "code",
   "execution_count": null,
   "id": "065473e4",
   "metadata": {},
   "outputs": [],
   "source": [
    "fig1, ax1 = plt.subplots()\n",
    "\n",
    "ax1.set_xlim(( 0, 100))\n",
    "ax1.set_ylim((-1.2, 1.2))\n",
    "\n",
    "linear_cmd_vel=[]\n",
    "angular_cmd_vel=[]\n",
    "\n",
    "time=[]\n",
    "\n",
    "line1, = ax1.plot([], [], 'r-')\n",
    "line2, = ax1.plot([], [], 'b-')\n",
    "line3, = ax1.plot([], [], 'k*')\n",
    "zero_time = rospy.get_time()\n",
    "\n",
    "def init1():\n",
    "    line1.set_data([], [])\n",
    "    line2.set_data([], [])\n",
    "    line3.set_data([], [])\n",
    "    return (line1,line2,line3)\n",
    "\n",
    "def twist_callback(msg):\n",
    "    global linear_cmd_vel,angular_cmd_vel,zero_time,time\n",
    "    linear_cmd_vel.append(msg.linear.x)\n",
    "    angular_cmd_vel.append(msg.angular.z)\n",
    "    time.append(rospy.get_time()-zero_time)\n",
    "\n",
    "def animate1(i):\n",
    "    global linear_cmd_vel,angular_cmd_vel,time,actual_linear_vel\n",
    "    line1.set_data(time,linear_cmd_vel)\n",
    "    line2.set_data(time, angular_cmd_vel)\n",
    "    line3.set_data(time, actual_linear_vel)\n",
    "\n",
    "    return (line1,line2,line3)\n",
    "\n",
    "jr.subscribe('/cmd_vel', Twist, twist_callback)\n",
    "\n",
    "anim = animation.FuncAnimation(fig1, animate1, init_func=init1,\n",
    "                               frames=100, interval=20, blit=True)"
   ]
  },
  {
   "cell_type": "markdown",
   "id": "27b73e17",
   "metadata": {},
   "source": [
    "- a boxplot displaying the number of reached targets and cancelled targets\n"
   ]
  },
  {
   "cell_type": "code",
   "execution_count": null,
   "id": "c4e9ed0e",
   "metadata": {},
   "outputs": [],
   "source": [
    "fig2, ax2 = plt.subplots()\n",
    "\n",
    "ax2.set_xlim(( 0, 2))\n",
    "ax2.set_ylim((0.0, 10))\n",
    "ngoal= 0\n",
    "ncancel=0\n",
    "\n",
    "def init2():\n",
    "    ngoal= rospy.get_param(\"goal_param\")\n",
    "    ncancel= rospy.get_param(\"goal_param\")\n",
    "    goal=0\n",
    "\n",
    "def animate2(i):\n",
    "    global ngoal,ncancel,goal\n",
    "    print()\n",
    "    index=1\n",
    "    goal=goal+1\n",
    "    ngoal= rospy.get_param(\"goal_param\")\n",
    "    ncancel=rospy.get_param(\"cancel_param\")\n",
    "    ax2.bar(index,ngoal,label=\"the number of goal\", align=\"center\", color='blue', width=0.35)\n",
    "    ax2.bar(index+0.35, ncancel, align='center', width=0.35,color='r', label='the number of cancel') \n",
    "\n",
    "anim = animation.FuncAnimation(fig2, animate2,init_func=init2, \n",
    "                               frames=100, interval=20,blit=True)"
   ]
  },
  {
   "cell_type": "markdown",
   "id": "5f524efd",
   "metadata": {},
   "source": [
    "- a hist plot showing the time required to reach targets"
   ]
  },
  {
   "cell_type": "code",
   "execution_count": null,
   "id": "280feebd",
   "metadata": {},
   "outputs": [],
   "source": [
    "fig3, ax3 = plt.subplots()\n",
    "ax3.set_xlim(( 0, 3))\n",
    "ax3.set_ylim((0.0, 10))\n",
    "goal_time_array=[]\n",
    "# def init3():\n",
    "#     global goal_time_array\n",
    "#     goal_time_array.append(rospy.get_param(\"reached_time_param\"))\n",
    "\n",
    "def animate3(i):\n",
    "    global goal_time_array\n",
    "    goal_time_array.append(rospy.get_param(\"reached_time_param\"))\n",
    "    ax3.hist(goal_time_array,bins=15,rwidth=0.5, align='mid') \n",
    "\n",
    "anim = animation.FuncAnimation(fig3, animate3,init_func=init3, \n",
    "                               frames=100, interval=20,blit=True)"
   ]
  },
  {
   "cell_type": "code",
   "execution_count": 2,
   "id": "f9ddca43",
   "metadata": {},
   "outputs": [
    {
     "data": {
      "application/vnd.jupyter.widget-view+json": {
       "model_id": "f512a6c9172b45c0bde369bd47a94461",
       "version_major": 2,
       "version_minor": 0
      },
      "text/plain": [
       "Canvas(toolbar=Toolbar(toolitems=[('Home', 'Reset original view', 'home', 'home'), ('Back', 'Back to previous …"
      ]
     },
     "metadata": {},
     "output_type": "display_data"
    },
    {
     "name": "stdout",
     "output_type": "stream",
     "text": [
      "[34.39999999999998]\n"
     ]
    },
    {
     "data": {
      "text/plain": [
       "(array([0., 0., 0., 0., 0., 1., 0., 0., 0., 0.]),\n",
       " array([33.9, 34. , 34.1, 34.2, 34.3, 34.4, 34.5, 34.6, 34.7, 34.8, 34.9]),\n",
       " <a list of 10 Patch objects>)"
      ]
     },
     "execution_count": 2,
     "metadata": {},
     "output_type": "execute_result"
    }
   ],
   "source": [
    "fig3, ax3 = plt.subplots()\n",
    "ax3.set_xlim(( 0, 3))\n",
    "ax3.set_ylim((0.0, 10))\n",
    "goal_time_array=[]\n",
    "goal_time_array.append(rospy.get_param(\"reached_time_param\"))\n",
    "print(goal_time_array)\n",
    "ax3.hist(goal_time_array,color='blue') "
   ]
  },
  {
   "cell_type": "code",
   "execution_count": null,
   "id": "a9d210c2",
   "metadata": {},
   "outputs": [],
   "source": []
  },
  {
   "cell_type": "code",
   "execution_count": null,
   "id": "e5ee5a0a",
   "metadata": {},
   "outputs": [],
   "source": []
  }
 ],
 "metadata": {
  "hide_input": false,
  "kernelspec": {
   "display_name": "Python 3",
   "language": "python",
   "name": "python3"
  },
  "language_info": {
   "codemirror_mode": {
    "name": "ipython",
    "version": 3
   },
   "file_extension": ".py",
   "mimetype": "text/x-python",
   "name": "python",
   "nbconvert_exporter": "python",
   "pygments_lexer": "ipython3",
   "version": "3.8.5"
  },
  "toc": {
   "base_numbering": 1,
   "nav_menu": {},
   "number_sections": true,
   "sideBar": true,
   "skip_h1_title": false,
   "title_cell": "Table of Contents",
   "title_sidebar": "Contents",
   "toc_cell": false,
   "toc_position": {},
   "toc_section_display": true,
   "toc_window_display": true
  },
  "varInspector": {
   "cols": {
    "lenName": 16,
    "lenType": 16,
    "lenVar": 40
   },
   "kernels_config": {
    "python": {
     "delete_cmd_postfix": "",
     "delete_cmd_prefix": "del ",
     "library": "var_list.py",
     "varRefreshCmd": "print(var_dic_list())"
    },
    "r": {
     "delete_cmd_postfix": ") ",
     "delete_cmd_prefix": "rm(",
     "library": "var_list.r",
     "varRefreshCmd": "cat(var_dic_list()) "
    }
   },
   "position": {
    "height": "720.696px",
    "left": "1396.52px",
    "right": "20px",
    "top": "151.986px",
    "width": "294.006px"
   },
   "types_to_exclude": [
    "module",
    "function",
    "builtin_function_or_method",
    "instance",
    "_Feature"
   ],
   "window_display": false
  }
 },
 "nbformat": 4,
 "nbformat_minor": 5
}
