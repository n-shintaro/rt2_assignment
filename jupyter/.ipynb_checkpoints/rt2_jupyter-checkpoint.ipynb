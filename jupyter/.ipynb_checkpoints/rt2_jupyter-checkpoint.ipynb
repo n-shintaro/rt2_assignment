{
 "cells": [
  {
   "cell_type": "markdown",
   "id": "b6d982ec",
   "metadata": {},
   "source": [
    "\n"
   ]
  },
  {
   "cell_type": "code",
   "execution_count": 1,
   "id": "5641eb69",
   "metadata": {
    "ExecuteTime": {
     "end_time": "2021-05-29T21:40:40.996318Z",
     "start_time": "2021-05-29T21:40:40.989349Z"
    }
   },
   "outputs": [],
   "source": [
    "%matplotlib widget\n",
    "import numpy as np\n",
    "import matplotlib.pyplot as plt\n",
    "from ipywidgets import Button, Layout, ButtonStyle, GridBox, VBox, HBox\n",
    "import ipywidgets as widgets\n",
    "import jupyros as jr\n",
    "import rospy\n",
    "from tf.transformations import euler_from_quaternion\n",
    "from nav_msgs.msg import Odometry\n",
    "from matplotlib import animation, rc\n",
    "from rt2_assignment1.srv import Command\n",
    "from geometry_msgs.msg import Twist\n",
    "\n",
    "#Control node initialization\n",
    "rospy.init_node('robot_control_node')\n",
    "\n"
   ]
  },
  {
   "cell_type": "markdown",
   "id": "68a06958",
   "metadata": {},
   "source": [
    "## Control Block\n",
    "\n",
    "### Start and stop buttons\n"
   ]
  },
  {
   "cell_type": "code",
   "execution_count": 2,
   "id": "f73768c6",
   "metadata": {
    "ExecuteTime": {
     "end_time": "2021-05-29T21:40:45.157272Z",
     "start_time": "2021-05-29T21:40:45.109633Z"
    }
   },
   "outputs": [
    {
     "data": {
      "application/vnd.jupyter.widget-view+json": {
       "model_id": "f6d8facbc7a1485785c856ad6f5ab2c6",
       "version_major": 2,
       "version_minor": 0
      },
      "text/plain": [
       "VBox(children=(GridBox(children=(Button(description='Start', layout=Layout(grid_area='Start', width='auto'), s…"
      ]
     },
     "metadata": {},
     "output_type": "display_data"
    }
   ],
   "source": [
    "# Start and stop button definition\n",
    "start  = Button(description='Start',layout=Layout(width='auto', align=\"center\", grid_area='Start'),style=ButtonStyle(button_color='green'))\n",
    "stop  = Button(description='Stop',layout=Layout(width='auto', grid_area='Stop'),style=ButtonStyle(button_color='red'))\n",
    "output = widgets.Output()\n",
    "\n",
    "#Node initialization\n",
    "ui_client = rospy.ServiceProxy('/user_interface', Command)\n",
    "random_status = False\n",
    "\n",
    "# Output of the buttons\n",
    "def start_click(start):\n",
    "    global random_status\n",
    "    with output:\n",
    "        ui_client(\"start\")\n",
    "        random_status = True\n",
    "        print('Start clicked')\n",
    "        \n",
    "\n",
    "def stop_click(stop):\n",
    "    global random_status\n",
    "    with output:\n",
    "        ui_client(\"stop\")\n",
    "        random_status = False\n",
    "        print('Stop clicked')\n",
    "\n",
    "# Callback definition\n",
    "start.on_click(start_click)\n",
    "stop.on_click(stop_click)\n",
    "\n",
    "# Buttons display\n",
    "buttons = GridBox(children=[start, stop],layout=Layout(width='50%',grid_template_rows='auto auto',grid_template_columns='50% 50%',grid_template_areas='''\"Start Stop \"'''))\n",
    "widgets.VBox([buttons, output])\n"
   ]
  },
  {
   "cell_type": "markdown",
   "id": "a7caabb4",
   "metadata": {
    "ExecuteTime": {
     "end_time": "2021-05-29T20:14:19.026334Z",
     "start_time": "2021-05-29T20:14:19.018683Z"
    }
   },
   "source": [
    "### Slider commands"
   ]
  },
  {
   "cell_type": "code",
   "execution_count": 3,
   "id": "15883e42",
   "metadata": {
    "ExecuteTime": {
     "end_time": "2021-05-29T21:40:51.405018Z",
     "start_time": "2021-05-29T21:40:51.373895Z"
    },
    "scrolled": true
   },
   "outputs": [
    {
     "data": {
      "application/vnd.jupyter.widget-view+json": {
       "model_id": "fe79d8d4da3c4e6899ef793bd1f54ac5",
       "version_major": 2,
       "version_minor": 0
      },
      "text/plain": [
       "FloatSlider(value=0.0, description='Linear vel.', max=1.0, min=-1.0)"
      ]
     },
     "metadata": {},
     "output_type": "display_data"
    },
    {
     "data": {
      "application/vnd.jupyter.widget-view+json": {
       "model_id": "44af2226f43f4112bed5ada3f2f62b8f",
       "version_major": 2,
       "version_minor": 0
      },
      "text/plain": [
       "FloatSlider(value=0.0, description='Angular vel.', max=1.0, min=-1.0)"
      ]
     },
     "metadata": {},
     "output_type": "display_data"
    }
   ],
   "source": [
    "pub = rospy.Publisher('cmd_vel', Twist, queue_size=10)\n",
    "\n",
    "msg = Twist()\n",
    "\n",
    "a = widgets.FloatSlider(min=-1.0, max=1.0, description='Linear vel.')\n",
    "display(a)\n",
    "\n",
    "b = widgets.FloatSlider(min=-1.0, max=1.0, description='Angular vel.')\n",
    "display(b)\n",
    "\n",
    "\n",
    "def on_value_change(change):\n",
    "    global msg, random_status\n",
    "    if random_status == False:\n",
    "        msg.linear.x = change['new']\n",
    "        pub.publish(msg)\n",
    "    else:\n",
    "        print(\"Command ignored, random position movement active\")\n",
    "    \n",
    "def on_valueang_change(change):\n",
    "    global msg, random_status\n",
    "    if random_status == False:\n",
    "        msg.angular.z = change['new']\n",
    "        pub.publish(msg)\n",
    "    else:\n",
    "        print(\"Command ignored, random position movement active\")\n",
    "\n",
    "a.observe(on_value_change, names='value')\n",
    "b.observe(on_valueang_change, names='value')\n"
   ]
  },
  {
   "cell_type": "markdown",
   "id": "d264e468",
   "metadata": {},
   "source": [
    "### Control via buttons"
   ]
  },
  {
   "cell_type": "code",
   "execution_count": 4,
   "id": "c67b1937",
   "metadata": {
    "ExecuteTime": {
     "end_time": "2021-05-29T21:57:37.806240Z",
     "start_time": "2021-05-29T21:57:37.720864Z"
    }
   },
   "outputs": [
    {
     "data": {
      "application/vnd.jupyter.widget-view+json": {
       "model_id": "395b4644bc434b47be35e36b999c5cfa",
       "version_major": 2,
       "version_minor": 0
      },
      "text/plain": [
       "GridBox(children=(Button(description='W', layout=Layout(grid_area='W', width='auto'), style=ButtonStyle(button…"
      ]
     },
     "metadata": {},
     "output_type": "display_data"
    }
   ],
   "source": [
    "up  = Button(description='W',layout=Layout(width='auto', align=\"center\", grid_area='W'),style=ButtonStyle(button_color='gray'))\n",
    "left  = Button(description='A',layout=Layout(width='auto', grid_area='A'),style=ButtonStyle(button_color='gray'))\n",
    "stop_asd  = Button(description='Alt',layout=Layout(width='auto', grid_area='Alt'),style=ButtonStyle(button_color='red'))\n",
    "right = Button(description='D',layout=Layout(width='auto', grid_area='D'),style=ButtonStyle(button_color='gray'))\n",
    "down = Button(description='S',layout=Layout(width='auto', grid_area='S'),style=ButtonStyle(button_color='gray'))\n",
    "\n",
    "# Output of the buttons for moving\n",
    "def up_click(up):\n",
    "    global random_status\n",
    "    if random_status == False:\n",
    "        msg.linear.x = 0.5\n",
    "        msg.angular.z = 0.0\n",
    "        pub.publish(msg)\n",
    "        print(\"Go straight\")\n",
    "    else:\n",
    "        print(\"Command ignored, random position movement active\")       \n",
    "        \n",
    "def down_click(down):\n",
    "    global random_status\n",
    "    if random_status == False:\n",
    "        msg.linear.x = -0.5\n",
    "        msg.angular.z = 0.0\n",
    "        pub.publish(msg)\n",
    "        print(\"Shrimp style\")\n",
    "    else:\n",
    "        print(\"Command ignored, random position movement active\")  \n",
    "        \n",
    "def right_click(right):\n",
    "    global random_status\n",
    "    if random_status == False:\n",
    "        msg.linear.x = 0.5\n",
    "        msg.angular.z = 1.0\n",
    "        pub.publish(msg)\n",
    "        print(\"Turn right\")\n",
    "    else:\n",
    "        print(\"Command ignored, random position movement active\")  \n",
    "        \n",
    "def left_click(left):\n",
    "    global random_status\n",
    "    if random_status == False:\n",
    "        msg.linear.x = 0.5\n",
    "        msg.angular.z = -1.0\n",
    "        pub.publish(msg)\n",
    "        print(\"Turn left\")\n",
    "    else:\n",
    "        print(\"Command ignored, random position movement active\")  \n",
    "\n",
    "        \n",
    "# Output of the button for stopping       \n",
    "def stop_asd_click(stop_asd):\n",
    "    global random_status\n",
    "    if random_status == False:\n",
    "        with output_buttons:\n",
    "            msg.linear.x = 0.0\n",
    "            msg.angular.z = 0.0\n",
    "            pub.publish(msg)\n",
    "        print('Robot stopped')\n",
    "    else:\n",
    "        print(\"Command ignored, random position movement active\")  \n",
    "\n",
    "# Callback definition\n",
    "up.on_click(up_click)\n",
    "down.on_click(down_click)\n",
    "right.on_click(right_click)\n",
    "left.on_click(left_click)\n",
    "stop_asd.on_click(stop_asd_click)\n",
    "\n",
    "# Buttons display\n",
    "buttons = GridBox(children=[start, stop],layout=Layout(width='50%',grid_template_rows='auto auto',grid_template_columns='50% 50%',grid_template_areas='''\"Start Stop \"'''))\n",
    "widgets.VBox([buttons, output])\n",
    "\n",
    "GridBox(children=[up,  left, stop_asd, right, down],layout=Layout(width='50%',grid_template_rows='auto auto',grid_template_columns='33% 33% 33%',grid_template_areas='''\" . W . \"\"A Alt D \"\".S .\"'''))"
   ]
  },
  {
   "cell_type": "markdown",
   "id": "f7388f47",
   "metadata": {},
   "source": [
    "## Display"
   ]
  },
  {
   "cell_type": "code",
   "execution_count": 5,
   "id": "f9f733aa",
   "metadata": {
    "ExecuteTime": {
     "end_time": "2021-05-29T20:07:55.073003Z",
     "start_time": "2021-05-29T20:07:54.971112Z"
    }
   },
   "outputs": [
    {
     "data": {
      "application/vnd.jupyter.widget-view+json": {
       "model_id": "74e1978ef2ac4389b39b1a18000cf053",
       "version_major": 2,
       "version_minor": 0
      },
      "text/plain": [
       "Canvas(toolbar=Toolbar(toolitems=[('Home', 'Reset original view', 'home', 'home'), ('Back', 'Back to previous …"
      ]
     },
     "metadata": {},
     "output_type": "display_data"
    },
    {
     "data": {
      "application/vnd.jupyter.widget-view+json": {
       "model_id": "863fc562408e4f7fa5f3984dd11cc842",
       "version_major": 2,
       "version_minor": 0
      },
      "text/plain": [
       "Canvas(toolbar=Toolbar(toolitems=[('Home', 'Reset original view', 'home', 'home'), ('Back', 'Back to previous …"
      ]
     },
     "metadata": {},
     "output_type": "display_data"
    },
    {
     "data": {
      "application/vnd.jupyter.widget-view+json": {
       "model_id": "f7c473ba3e4e4a12b48037ae11702d48",
       "version_major": 2,
       "version_minor": 0
      },
      "text/plain": [
       "Canvas(toolbar=Toolbar(toolitems=[('Home', 'Reset original view', 'home', 'home'), ('Back', 'Back to previous …"
      ]
     },
     "metadata": {},
     "output_type": "display_data"
    }
   ],
   "source": [
    "# First set up the figures and the axis \n",
    "    # Robot position and orientation\n",
    "fig, ax = plt.subplots()\n",
    "ax.set_xlim(( -5, 5))\n",
    "ax.set_ylim((-5, 5))\n",
    "plt.xlabel(\"X\")\n",
    "plt.ylabel(\"Y\")\n",
    "plt.title(\"Robot positon\")\n",
    "line, = ax.plot([], [], 'ro')\n",
    "x_data = []\n",
    "y_data = []\n",
    "theta_data = []\n",
    "\n",
    "    # Velocity feedback\n",
    "fig_vel, ax_vel = plt.subplots()\n",
    "plt.title(\"Velocity check\")\n",
    "velocity_set = []\n",
    "velocity_real = []\n",
    "angular_set = []\n",
    "angular_real = []\n",
    "    \n",
    "    \n",
    "    \n",
    "    # Boxplot of target reached\n",
    "fig_bp, ax_bp = plt.subplots()\n",
    "plt.title(\"Target  reached\")\n",
    "target_reached = []\n",
    "target_cancelled = []\n",
    "\n",
    "    # Histogram for time required for reaching a target\n",
    "    \n",
    "    \n",
    "    "
   ]
  },
  {
   "cell_type": "code",
   "execution_count": 9,
   "id": "9fb5f58d",
   "metadata": {
    "ExecuteTime": {
     "end_time": "2021-05-29T20:08:00.234199Z",
     "start_time": "2021-05-29T20:08:00.071873Z"
    }
   },
   "outputs": [
    {
     "data": {
      "application/vnd.jupyter.widget-view+json": {
       "model_id": "de33356a88c443378335715b63f19c1c",
       "version_major": 2,
       "version_minor": 0
      },
      "text/plain": [
       "VBox(children=(HBox(children=(Button(description='Stop', style=ButtonStyle()),)), Output(layout=Layout(border=…"
      ]
     },
     "metadata": {},
     "output_type": "display_data"
    }
   ],
   "source": [
    "def init():\n",
    "    line.set_data([], [])\n",
    "    return (line,)\n",
    "\n",
    "def odom_callback(msg):\n",
    "    y_data.append(msg.pose.pose.position.y)\n",
    "    x_data.append(msg.pose.pose.position.x)\n",
    "    quaternion = (msg.pose.pose.orientation.x, msg.pose.pose.orientation.y,msg.pose.pose.orientation.z, msg.pose.pose.orientation.w)\n",
    "    euler_angles = euler_from_quaternion(quaternion)\n",
    "    theta_data.append(euler_angles[2])    \n",
    "    \n",
    "def animate(i):\n",
    "    global arrow \n",
    "    line.set_data(x_data, y_data)\n",
    "    #ax.patches.remove(arrow)\n",
    "    \n",
    "    arrow = plt.Arrow(x_data[-1], y_data[-1], dx=np.cos(theta_data[-1]), dy=np.sin(theta_data[-1]), width=0.1, color='red')\n",
    "    ax.add_patch(arrow)\n",
    "    return (line, arrow)\n",
    "\n",
    "jr.subscribe('/odom', Odometry, odom_callback)"
   ]
  },
  {
   "cell_type": "code",
   "execution_count": 10,
   "id": "c4607bc4",
   "metadata": {
    "ExecuteTime": {
     "end_time": "2021-05-29T20:08:03.041121Z",
     "start_time": "2021-05-29T20:08:03.036051Z"
    }
   },
   "outputs": [],
   "source": [
    "# call the animator. blit=True means only re-draw the parts that have changed.)\n",
    "\n",
    "anim = animation.FuncAnimation(fig, animate, init_func=init,frames=100, interval=20, blit=True)"
   ]
  },
  {
   "cell_type": "code",
   "execution_count": null,
   "id": "83658cc4",
   "metadata": {},
   "outputs": [],
   "source": []
  }
 ],
 "metadata": {
  "hide_input": false,
  "kernelspec": {
   "display_name": "Python 3",
   "language": "python",
   "name": "python3"
  },
  "language_info": {
   "codemirror_mode": {
    "name": "ipython",
    "version": 3
   },
   "file_extension": ".py",
   "mimetype": "text/x-python",
   "name": "python",
   "nbconvert_exporter": "python",
   "pygments_lexer": "ipython3",
   "version": "3.8.5"
  },
  "toc": {
   "base_numbering": 1,
   "nav_menu": {},
   "number_sections": true,
   "sideBar": true,
   "skip_h1_title": false,
   "title_cell": "Table of Contents",
   "title_sidebar": "Contents",
   "toc_cell": false,
   "toc_position": {},
   "toc_section_display": true,
   "toc_window_display": false
  },
  "varInspector": {
   "cols": {
    "lenName": 16,
    "lenType": 16,
    "lenVar": 40
   },
   "kernels_config": {
    "python": {
     "delete_cmd_postfix": "",
     "delete_cmd_prefix": "del ",
     "library": "var_list.py",
     "varRefreshCmd": "print(var_dic_list())"
    },
    "r": {
     "delete_cmd_postfix": ") ",
     "delete_cmd_prefix": "rm(",
     "library": "var_list.r",
     "varRefreshCmd": "cat(var_dic_list()) "
    }
   },
   "types_to_exclude": [
    "module",
    "function",
    "builtin_function_or_method",
    "instance",
    "_Feature"
   ],
   "window_display": false
  }
 },
 "nbformat": 4,
 "nbformat_minor": 5
}
