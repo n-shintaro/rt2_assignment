{
 "cells": [
  {
   "cell_type": "code",
   "execution_count": 1,
   "id": "75b1680d-0631-4e75-be38-9d90ed1fece2",
   "metadata": {},
   "outputs": [],
   "source": [
    "%matplotlib widget\n",
    "import numpy as np\n",
    "import matplotlib.pyplot as plt\n",
    "import jupyros as jr\n",
    "import rospy\n",
    "from nav_msgs.msg import Odometry\n",
    "from matplotlib import animation, rc\n",
    "import rt2_assignment1.msg\n",
    "from geometry_msgs.msg import Twist\n",
    "from ipywidgets import Button, Layout, ButtonStyle, GridBox, VBox, HBox \n",
    "import ipywidgets as widgets\n",
    "from rt2_assignment1.srv import Command\n",
    "from IPython.display import display \n",
    "\n",
    "rospy.init_node('robot_control_node')"
   ]
  },
  {
   "cell_type": "markdown",
   "id": "63f771bb",
   "metadata": {},
   "source": [
    "# start/stop the robot\n",
    "## user interface\n",
    "- starting/ stopping the robot \"random position\" behaviour by using two buttons"
   ]
  },
  {
   "cell_type": "code",
   "execution_count": 2,
   "id": "d975b655",
   "metadata": {},
   "outputs": [
    {
     "data": {
      "application/vnd.jupyter.widget-view+json": {
       "model_id": "a271697052cc4bd28ebe1704d5539ab8",
       "version_major": 2,
       "version_minor": 0
      },
      "text/plain": [
       "HBox(children=(Button(description='start', layout=Layout(grid_area='b1', width='auto'), style=ButtonStyle(butt…"
      ]
     },
     "metadata": {},
     "output_type": "display_data"
    }
   ],
   "source": [
    "ui_client = rospy.ServiceProxy('/user_interface', Command)\n",
    "\n",
    "\n",
    "start_button = Button(description='start', layout=Layout(width='auto', align=\"center\", grid_area='b1'), style=ButtonStyle(button_color='lightblue')) \n",
    "\n",
    "\n",
    "stop_button = Button(description='stop', layout=Layout(width='auto', grid_area='b2'), style=ButtonStyle(button_color='moccasin')) \n",
    "\n",
    "output = widgets.Output() \n",
    "moving_random_pos=0\n",
    "\n",
    "def click_start(change):\n",
    "    global moving_random_pos\n",
    "    with output:\n",
    "        if moving_random_pos==0:\n",
    "            ui_client(\"start\")\n",
    "            print('the robot starts to move to the random position')\n",
    "            moving_random_pos=1\n",
    "        else:\n",
    "            print('the robot is going to the previous random position')\n",
    "        \n",
    "def click_stop(change):\n",
    "    global moving_random_pos\n",
    "    with output:\n",
    "        print('stop')\n",
    "        if moving_random_pos==1:\n",
    "            ui_client(\"stop\")\n",
    "            print('click the stop button')\n",
    "        moving_random_pos=0\n",
    "\n",
    "start_button.on_click(click_start)\n",
    "stop_button.on_click(click_stop)\n",
    "\n",
    "HBox([start_button,stop_button])"
   ]
  },
  {
   "cell_type": "markdown",
   "id": "3a560626",
   "metadata": {},
   "source": [
    "# set the cmd_vel\n",
    "- setting the linear and angular velocity by using two Sliders "
   ]
  },
  {
   "cell_type": "code",
   "execution_count": 3,
   "id": "93649f29",
   "metadata": {},
   "outputs": [
    {
     "data": {
      "application/vnd.jupyter.widget-view+json": {
       "model_id": "8ff990dae89b4b9ab75e9ed8078a583d",
       "version_major": 2,
       "version_minor": 0
      },
      "text/plain": [
       "FloatSlider(value=0.0, continuous_update=False, description='linear velocity:', max=1.0, min=-1.0, readout_for…"
      ]
     },
     "metadata": {},
     "output_type": "display_data"
    },
    {
     "data": {
      "application/vnd.jupyter.widget-view+json": {
       "model_id": "b58dc995c34e4abe9ad225a9b1f11afa",
       "version_major": 2,
       "version_minor": 0
      },
      "text/plain": [
       "FloatSlider(value=0.0, continuous_update=False, description='angular velocity:', max=1.0, min=-1.0, readout_fo…"
      ]
     },
     "metadata": {},
     "output_type": "display_data"
    }
   ],
   "source": [
    "msg = Twist()\n",
    "\n",
    "a = widgets.FloatSlider(\n",
    "    min=-1.0,\n",
    "    max=1.0,\n",
    "    step=0.1,\n",
    "    description='linear velocity:',\n",
    "    disabled=False,\n",
    "    continuous_update=False,\n",
    "    orientation='horizontal',\n",
    "    readout=True,\n",
    "    readout_format='.1f',)\n",
    "\n",
    "display(a)\n",
    "\n",
    "b = widgets.FloatSlider(\n",
    "    min=-1.0,\n",
    "    max=1.0,\n",
    "    step=0.1,\n",
    "    description='angular velocity:',\n",
    "    disabled=False,\n",
    "    continuous_update=False,\n",
    "    orientation='horizontal',\n",
    "    readout=True,\n",
    "    readout_format='.1f',)\n",
    "\n",
    "display(b)\n",
    "\n",
    "pub = rospy.Publisher('/cmd_vel', Twist, queue_size=1)\n",
    "\n",
    "def linear_vel_change(change):\n",
    "    global msg\n",
    "    msg.linear.x = change['new']\n",
    "    pub.publish(msg)\n",
    "    \n",
    "def angular_vel_change(change):\n",
    "    global msg\n",
    "    msg.angular.z = change['new']\n",
    "    pub.publish(msg)\n",
    "\n",
    "a.observe(linear_vel_change, names='value')\n",
    "b.observe(angular_vel_change, names='value')"
   ]
  },
  {
   "cell_type": "markdown",
   "id": "deca4a8a",
   "metadata": {},
   "source": [
    "#  robot controller\n",
    "- directly controlling the robot movements by using 5 Buttons, (forward, turn right, backward, turn left, stop), possibly placed in an intuitive fashion "
   ]
  },
  {
   "cell_type": "code",
   "execution_count": 7,
   "id": "df77c14d",
   "metadata": {
    "scrolled": true
   },
   "outputs": [
    {
     "data": {
      "application/vnd.jupyter.widget-view+json": {
       "model_id": "ee2688f5ee1d4bc5b0bacf7dd36535de",
       "version_major": 2,
       "version_minor": 0
      },
      "text/plain": [
       "GridBox(children=(Button(description='←', layout=Layout(grid_area='left_button', width='auto'), style=ButtonSt…"
      ]
     },
     "metadata": {},
     "output_type": "display_data"
    }
   ],
   "source": [
    "left_button = Button(description='←', layout=Layout(width='auto', grid_area='left'), style=ButtonStyle(button_color='salmon')) \n",
    "up_button = Button(description='↑',layout=Layout(width='auto', grid_area='up'), style=ButtonStyle(button_color='salmon')) \n",
    "right_button = Button(description='→', layout=Layout(width='auto', grid_area='right'), style=ButtonStyle(button_color='salmon')) \n",
    "down_button = Button(description='↓', layout=Layout(width='auto', grid_area='down'), style=ButtonStyle(button_color='salmon')) \n",
    "\n",
    "def click_up(change):\n",
    "    global state,msg\n",
    "    with output:\n",
    "        if moving_random_pos==1:\n",
    "            print('the robot is going to the previous random position and the goal is canceled')\n",
    "            ui_client(\"stop\")\n",
    "            moving_random_pos=0\n",
    "        msg.linear.x=0.2\n",
    "        msg.linear.y=0.0\n",
    "        msg.angluar.z=0.0\n",
    "        pub.publish(msg)\n",
    "        \n",
    "def click_down(change):\n",
    "    global state,msg\n",
    "    with output:\n",
    "        if moving_random_pos==1:\n",
    "            print('the robot is going to the previous random position and the goal is canceled')\n",
    "            ui_client(\"stop\")\n",
    "            moving_random_pos=0\n",
    "        msg.linear.x=0.2\n",
    "        msg.linear.y=0.0\n",
    "        msg.angluar.z=0.0\n",
    "        pub.publish(msg)\n",
    "        \n",
    "def click_right(change):\n",
    "    global state,msg\n",
    "    with output:\n",
    "        if moving_random_pos==1:\n",
    "            print('the robot is going to the previous random position and the goal is canceled')\n",
    "            ui_client(\"stop\")\n",
    "            moving_random_pos=0\n",
    "        msg.linear.x=0.2\n",
    "        msg.linear.y=0.0\n",
    "        msg.angluar.z=0.0\n",
    "        pub.publish(msg)\n",
    "\n",
    "def click_left(change):\n",
    "    global state,msg\n",
    "    with output:\n",
    "#         if moving_random_pos==1:\n",
    "#             print('the robot is going to the previous random position and the goal is canceled')\n",
    "#             ui_client(\"stop\")\n",
    "#             moving_random_pos=0\n",
    "        msg.linear.x=0.2\n",
    "        msg.linear.y=0.0\n",
    "        msg.angluar.z=0.0\n",
    "        pub.publish(msg)\n",
    "            \n",
    "up_button.on_click(click_up)\n",
    "down_button.on_click(click_down)\n",
    "right_button.on_click(click_left)\n",
    "left_button.on_click(click_right)\n",
    "\n",
    "GridBox(children=[left_button,down_button,right_button, up_button], \n",
    "        layout=Layout( \n",
    "            width='20%', \n",
    "            grid_template_rows='auto auto', \n",
    "            grid_template_columns='33% 33% 33%', \n",
    "            grid_template_areas=''' \n",
    "            \"left up right\" \n",
    "            \". down . \" \n",
    "            ''') \n",
    "       ) "
   ]
  },
  {
   "cell_type": "code",
   "execution_count": null,
   "id": "1724d300",
   "metadata": {},
   "outputs": [],
   "source": []
  },
  {
   "cell_type": "code",
   "execution_count": null,
   "id": "6574a98f",
   "metadata": {},
   "outputs": [],
   "source": []
  },
  {
   "cell_type": "code",
   "execution_count": null,
   "id": "53dbdb9b",
   "metadata": {},
   "outputs": [],
   "source": []
  },
  {
   "cell_type": "code",
   "execution_count": null,
   "id": "cbe1d18e",
   "metadata": {},
   "outputs": [],
   "source": []
  },
  {
   "cell_type": "code",
   "execution_count": null,
   "id": "8591aa9c",
   "metadata": {},
   "outputs": [],
   "source": []
  },
  {
   "cell_type": "code",
   "execution_count": null,
   "id": "a9504bf5",
   "metadata": {},
   "outputs": [],
   "source": []
  }
 ],
 "metadata": {
  "kernelspec": {
   "display_name": "Python 3",
   "language": "python",
   "name": "python3"
  },
  "language_info": {
   "codemirror_mode": {
    "name": "ipython",
    "version": 3
   },
   "file_extension": ".py",
   "mimetype": "text/x-python",
   "name": "python",
   "nbconvert_exporter": "python",
   "pygments_lexer": "ipython3",
   "version": "3.8.5"
  }
 },
 "nbformat": 4,
 "nbformat_minor": 5
}
