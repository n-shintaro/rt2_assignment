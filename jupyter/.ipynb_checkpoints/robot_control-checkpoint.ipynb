{
 "cells": [
  {
   "cell_type": "code",
   "execution_count": 1,
   "id": "75b1680d-0631-4e75-be38-9d90ed1fece2",
   "metadata": {
    "ExecuteTime": {
     "end_time": "2021-07-25T07:17:15.966446Z",
     "start_time": "2021-07-25T07:17:15.050316Z"
    },
    "hide_input": false
   },
   "outputs": [],
   "source": [
    "%matplotlib widget\n",
    "import numpy as np\n",
    "import matplotlib.pyplot as plt\n",
    "import jupyros as jr\n",
    "import rospy\n",
    "from nav_msgs.msg import Odometry\n",
    "from matplotlib import animation, rc\n",
    "import rt2_assignment1.msg\n",
    "from geometry_msgs.msg import Twist\n",
    "from ipywidgets import Button, Layout, ButtonStyle, GridBox, VBox, HBox \n",
    "import ipywidgets as widgets\n",
    "from rt2_assignment1.srv import Command\n",
    "from IPython.display import display\n",
    "from tf import transformations\n",
    "import math\n",
    "\n",
    "rospy.init_node('robot_control_node')"
   ]
  },
  {
   "cell_type": "markdown",
   "id": "63f771bb",
   "metadata": {},
   "source": [
    "# start/stop the robot\n",
    "## user interface\n",
    "- starting/ stopping the robot \"random position\" behaviour by using two buttons\n",
    "- send the service /user_interface when the user push the button"
   ]
  },
  {
   "cell_type": "code",
   "execution_count": 2,
   "id": "d975b655",
   "metadata": {
    "ExecuteTime": {
     "end_time": "2021-07-25T07:17:16.019301Z",
     "start_time": "2021-07-25T07:17:15.984598Z"
    }
   },
   "outputs": [
    {
     "data": {
      "application/vnd.jupyter.widget-view+json": {
       "model_id": "8f51526b2df84eed8977f9e04d5b2a46",
       "version_major": 2,
       "version_minor": 0
      },
      "text/plain": [
       "HBox(children=(Button(description='start', layout=Layout(grid_area='b1', width='auto'), style=ButtonStyle(butt…"
      ]
     },
     "metadata": {},
     "output_type": "display_data"
    }
   ],
   "source": [
    "ui_client = rospy.ServiceProxy('/user_interface', Command)\n",
    "\n",
    "\n",
    "start_button = Button(description='start', layout=Layout(width='auto', align=\"center\", grid_area='b1'), style=ButtonStyle(button_color='lightblue')) \n",
    "\n",
    "\n",
    "stop_button = Button(description='stop', layout=Layout(width='auto', grid_area='b2'), style=ButtonStyle(button_color='moccasin')) \n",
    "\n",
    "output = widgets.Output() \n",
    "moving_random_pos=0\n",
    "\n",
    "def click_start(change):\n",
    "    global moving_random_pos\n",
    "    with output:\n",
    "        if moving_random_pos==0:\n",
    "            ui_client(\"start\")\n",
    "            print('the robot starts to move to the random position')\n",
    "            moving_random_pos=1\n",
    "        else:\n",
    "            print('the robot is going to the previous random position')\n",
    "        \n",
    "def click_stop(change):\n",
    "    global moving_random_pos\n",
    "    with output:\n",
    "        print('stop')\n",
    "        if moving_random_pos==1:\n",
    "            ui_client(\"stop\")\n",
    "            print('click the stop button')\n",
    "        moving_random_pos=0\n",
    "\n",
    "start_button.on_click(click_start)\n",
    "stop_button.on_click(click_stop)\n",
    "\n",
    "HBox([start_button,stop_button])"
   ]
  },
  {
   "cell_type": "markdown",
   "id": "3a560626",
   "metadata": {},
   "source": [
    "# set the cmd_vel\n",
    "- setting the linear and angular velocity by using two Sliders\n",
    "- send /cmd_vel the value of two sliders"
   ]
  },
  {
   "cell_type": "code",
   "execution_count": 3,
   "id": "93649f29",
   "metadata": {
    "ExecuteTime": {
     "end_time": "2021-07-25T07:17:17.444707Z",
     "start_time": "2021-07-25T07:17:17.401606Z"
    }
   },
   "outputs": [
    {
     "data": {
      "application/vnd.jupyter.widget-view+json": {
       "model_id": "eab20c0d1d5d4931aaeb9d2f34d88902",
       "version_major": 2,
       "version_minor": 0
      },
      "text/plain": [
       "FloatSlider(value=0.0, continuous_update=False, description='linear velocity:', max=1.0, min=-1.0, readout_for…"
      ]
     },
     "metadata": {},
     "output_type": "display_data"
    },
    {
     "data": {
      "application/vnd.jupyter.widget-view+json": {
       "model_id": "baab8bd11a274baabcaf7a77a06d4620",
       "version_major": 2,
       "version_minor": 0
      },
      "text/plain": [
       "FloatSlider(value=0.0, continuous_update=False, description='angular velocity:', max=1.0, min=-1.0, readout_fo…"
      ]
     },
     "metadata": {},
     "output_type": "display_data"
    }
   ],
   "source": [
    "msg = Twist()\n",
    "\n",
    "a = widgets.FloatSlider(\n",
    "    min=-1.0,\n",
    "    max=1.0,\n",
    "    step=0.1,\n",
    "    description='linear velocity:',\n",
    "    disabled=False,\n",
    "    continuous_update=False,\n",
    "    orientation='horizontal',\n",
    "    readout=True,\n",
    "    readout_format='.1f',)\n",
    "\n",
    "display(a)\n",
    "\n",
    "b = widgets.FloatSlider(\n",
    "    min=-1.0,\n",
    "    max=1.0,\n",
    "    step=0.1,\n",
    "    description='angular velocity:',\n",
    "    disabled=False,\n",
    "    continuous_update=False,\n",
    "    orientation='horizontal',\n",
    "    readout=True,\n",
    "    readout_format='.1f',)\n",
    "\n",
    "display(b)\n",
    "\n",
    "pub = rospy.Publisher('/cmd_vel', Twist, queue_size=1)\n",
    "\n",
    "def linear_vel_change(change):\n",
    "    global msg,moving_random_pos\n",
    "    if moving_random_pos==1:\n",
    "        print('the robot is going to the previous random position and the goal is canceled')\n",
    "        ui_client(\"stop\")\n",
    "        moving_random_pos=0\n",
    "    msg.linear.x = change['new']\n",
    "    pub.publish(msg)\n",
    "    \n",
    "def angular_vel_change(change):\n",
    "    global msg,moving_random_pos\n",
    "    if moving_random_pos==1:\n",
    "        print('the robot is going to the previous random position and the goal is canceled')\n",
    "        ui_client(\"stop\")\n",
    "        moving_random_pos=0\n",
    "    msg.angular.z = change['new']\n",
    "    pub.publish(msg)\n",
    "\n",
    "a.observe(linear_vel_change, names='value')\n",
    "b.observe(angular_vel_change, names='value')"
   ]
  },
  {
   "cell_type": "markdown",
   "id": "deca4a8a",
   "metadata": {},
   "source": [
    "#  robot controller\n",
    "- directly controlling the robot movements by using 5 Buttons, (forward, turn right, backward, turn left, stop), possibly placed in an intuitive fashion\n",
    "- depending on the button, send the /cmd_vel to the robot"
   ]
  },
  {
   "cell_type": "code",
   "execution_count": 4,
   "id": "df77c14d",
   "metadata": {
    "ExecuteTime": {
     "end_time": "2021-07-25T07:17:18.516120Z",
     "start_time": "2021-07-25T07:17:18.446789Z"
    },
    "scrolled": true
   },
   "outputs": [
    {
     "data": {
      "application/vnd.jupyter.widget-view+json": {
       "model_id": "04cfa29188f44475984f8f1880361668",
       "version_major": 2,
       "version_minor": 0
      },
      "text/plain": [
       "GridBox(children=(Button(description='←', layout=Layout(grid_area='left', width='auto'), style=ButtonStyle(but…"
      ]
     },
     "metadata": {},
     "output_type": "display_data"
    },
    {
     "name": "stdout",
     "output_type": "stream",
     "text": [
      "Go straight\n",
      "Go straight\n",
      "Go straight\n",
      "Go back\n",
      "Go back\n",
      "Go back\n",
      "Go back\n",
      "Go back\n",
      "Go back\n",
      "Go back\n",
      "Go back\n",
      "Go right\n",
      "Go right\n",
      "Go right\n",
      "Go right\n",
      "Go right\n",
      "Go right\n",
      "Go right\n",
      "Go right\n",
      "Go right\n",
      "Go right\n",
      "Go right\n",
      "Go right\n",
      "Go back\n",
      "the robot is going to the previous random position and the goal is canceled\n",
      "Go back\n",
      "Go back\n",
      "Go back\n",
      "Go back\n",
      "Go back\n",
      "Go back\n",
      "Go back\n",
      "Go back\n",
      "Go back\n",
      "Go back\n",
      "Go back\n",
      "Go back\n",
      "Go back\n",
      "Go back\n",
      "Go back\n"
     ]
    }
   ],
   "source": [
    "left_button = Button(description='←', layout=Layout(width='auto', grid_area='left'), style=ButtonStyle(button_color='salmon')) \n",
    "up_button = Button(description='↑',layout=Layout(width='auto', grid_area='up'), style=ButtonStyle(button_color='salmon')) \n",
    "right_button = Button(description='→', layout=Layout(width='auto', grid_area='right'), style=ButtonStyle(button_color='salmon')) \n",
    "down_button = Button(description='↓', layout=Layout(width='auto', grid_area='down'), style=ButtonStyle(button_color='salmon')) \n",
    "\n",
    "def click_up(change):\n",
    "    global moving_random_pos,msg\n",
    "    print(\"Go straight\")\n",
    "    if moving_random_pos==1:\n",
    "        print('the robot is going to the previous random position and the goal is canceled')\n",
    "        ui_client(\"stop\")\n",
    "        moving_random_pos=0\n",
    "    msg.linear.x=0.5\n",
    "    msg.linear.y=0.0\n",
    "    msg.angular.z=0.0\n",
    "    pub.publish(msg)\n",
    "        \n",
    "def click_down(change):\n",
    "    global moving_random_pos,msg\n",
    "    print(\"Go back\")\n",
    "    if moving_random_pos==1:\n",
    "        print('the robot is going to the previous random position and the goal is canceled')\n",
    "        ui_client(\"stop\")\n",
    "        moving_random_pos=0\n",
    "    msg.linear.x=-0.5\n",
    "    msg.linear.y=0.0\n",
    "    msg.angular.z=0.0\n",
    "    pub.publish(msg)\n",
    "\n",
    "def click_right(change):\n",
    "    global moving_random_pos,msg\n",
    "    print(\"Go right\")\n",
    "    if moving_random_pos==1:\n",
    "        print('the robot is going to the previous random position and the goal is canceled')\n",
    "        ui_client(\"stop\")\n",
    "        moving_random_pos=0\n",
    "    msg.linear.x=0.1\n",
    "    msg.linear.y=0.0\n",
    "    msg.angular.z=0.5\n",
    "    pub.publish(msg)\n",
    "\n",
    "def click_left(change):\n",
    "    global moving_random_pos,msg\n",
    "    print(\"Go left\")\n",
    "    if moving_random_pos==1:\n",
    "        print('the robot is going to the previous random position and the goal is canceled')\n",
    "        ui_client(\"stop\")\n",
    "    moving_random_pos=0\n",
    "    msg.linear.x=0.1\n",
    "    msg.linear.y=0.0\n",
    "    msg.angular.z=-0.5\n",
    "    pub.publish(msg)\n",
    "            \n",
    "up_button.on_click(click_up)\n",
    "down_button.on_click(click_down)\n",
    "right_button.on_click(click_right)\n",
    "left_button.on_click(click_left)\n",
    "\n",
    "GridBox(children=[left_button,down_button,right_button, up_button], \n",
    "        layout=Layout( \n",
    "            width='20%', \n",
    "            grid_template_rows='auto auto', \n",
    "            grid_template_columns='33% 33% 33%', \n",
    "            grid_template_areas=''' \n",
    "            \"left up right\" \n",
    "            \". down . \" \n",
    "            ''') \n",
    "       ) "
   ]
  },
  {
   "cell_type": "code",
   "execution_count": null,
   "id": "9ab476c8",
   "metadata": {},
   "outputs": [],
   "source": []
  },
  {
   "cell_type": "code",
   "execution_count": null,
   "id": "0b591364",
   "metadata": {},
   "outputs": [],
   "source": []
  },
  {
   "cell_type": "code",
   "execution_count": null,
   "id": "2282a7d5",
   "metadata": {},
   "outputs": [],
   "source": []
  }
 ],
 "metadata": {
  "hide_input": false,
  "kernelspec": {
   "display_name": "Python 3 (ipykernel)",
   "language": "python",
   "name": "python3"
  },
  "language_info": {
   "codemirror_mode": {
    "name": "ipython",
    "version": 3
   },
   "file_extension": ".py",
   "mimetype": "text/x-python",
   "name": "python",
   "nbconvert_exporter": "python",
   "pygments_lexer": "ipython3",
   "version": "3.8.5"
  },
  "toc": {
   "base_numbering": 1,
   "nav_menu": {},
   "number_sections": true,
   "sideBar": true,
   "skip_h1_title": false,
   "title_cell": "Table of Contents",
   "title_sidebar": "Contents",
   "toc_cell": false,
   "toc_position": {},
   "toc_section_display": true,
   "toc_window_display": false
  },
  "varInspector": {
   "cols": {
    "lenName": 16,
    "lenType": 16,
    "lenVar": 40
   },
   "kernels_config": {
    "python": {
     "delete_cmd_postfix": "",
     "delete_cmd_prefix": "del ",
     "library": "var_list.py",
     "varRefreshCmd": "print(var_dic_list())"
    },
    "r": {
     "delete_cmd_postfix": ") ",
     "delete_cmd_prefix": "rm(",
     "library": "var_list.r",
     "varRefreshCmd": "cat(var_dic_list()) "
    }
   },
   "position": {
    "height": "630px",
    "left": "1483px",
    "right": "20px",
    "top": "120px",
    "width": "350px"
   },
   "types_to_exclude": [
    "module",
    "function",
    "builtin_function_or_method",
    "instance",
    "_Feature"
   ],
   "window_display": true
  }
 },
 "nbformat": 4,
 "nbformat_minor": 5
}
