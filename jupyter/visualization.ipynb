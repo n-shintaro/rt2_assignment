{
 "cells": [
  {
   "cell_type": "markdown",
   "id": "73a947ef",
   "metadata": {},
   "source": [
    "# Visuliazation of some paramaters of robot\n",
    "- this jupyter notbook show the variables related to the robot\n"
   ]
  },
  {
   "cell_type": "markdown",
   "id": "bd166e9b",
   "metadata": {},
   "source": [
    "## import"
   ]
  },
  {
   "cell_type": "code",
   "execution_count": 1,
   "id": "5aacb90a",
   "metadata": {
    "ExecuteTime": {
     "end_time": "2021-07-25T07:48:12.244765Z",
     "start_time": "2021-07-25T07:48:11.274301Z"
    }
   },
   "outputs": [],
   "source": [
    "%matplotlib widget\n",
    "import numpy as np\n",
    "import matplotlib.pyplot as plt\n",
    "import jupyros as jr\n",
    "import rospy\n",
    "from nav_msgs.msg import Odometry\n",
    "from matplotlib import animation, rc\n",
    "import rt2_assignment1.msg\n",
    "from geometry_msgs.msg import Twist\n",
    "from std_msgs.msg import Float32\n",
    "from ipywidgets import Button, Layout, ButtonStyle, GridBox, VBox, HBox \n",
    "import ipywidgets as widgets\n",
    "from rt2_assignment1.srv import Command\n",
    "from IPython.display import display\n",
    "from tf import transformations\n",
    "import actionlib\n",
    "import actionlib.msg\n",
    "import collections\n",
    "import math\n",
    "\n",
    "rospy.init_node('visualized_node')"
   ]
  },
  {
   "cell_type": "markdown",
   "id": "0a41d6e3",
   "metadata": {},
   "source": [
    "## display the movemennt of the robot"
   ]
  },
  {
   "cell_type": "markdown",
   "id": "a8c70c8e",
   "metadata": {},
   "source": [
    "- an xy graph showing the robot’s position and the orientation "
   ]
  },
  {
   "cell_type": "code",
   "execution_count": 7,
   "id": "640528ad",
   "metadata": {
    "ExecuteTime": {
     "end_time": "2021-07-25T07:54:15.902042Z",
     "start_time": "2021-07-25T07:54:15.776819Z"
    }
   },
   "outputs": [
    {
     "name": "stderr",
     "output_type": "stream",
     "text": [
      "ERROR:tornado.application:Exception in callback <bound method TimerBase._on_timer of <matplotlib.backends.backend_webagg_core.TimerTornado object at 0x7fdad5c98b20>>\n",
      "Traceback (most recent call last):\n",
      "  File \"/usr/local/lib/python3.8/dist-packages/tornado/ioloop.py\", line 905, in _run\n",
      "    return self.callback()\n",
      "  File \"/usr/lib/python3/dist-packages/matplotlib/backend_bases.py\", line 1194, in _on_timer\n",
      "    ret = func(*args, **kwargs)\n",
      "  File \"/usr/lib/python3/dist-packages/matplotlib/animation.py\", line 1447, in _step\n",
      "    still_going = Animation._step(self, *args)\n",
      "  File \"/usr/lib/python3/dist-packages/matplotlib/animation.py\", line 1173, in _step\n",
      "    self._draw_next_frame(framedata, self._blit)\n",
      "  File \"/usr/lib/python3/dist-packages/matplotlib/animation.py\", line 1192, in _draw_next_frame\n",
      "    self._draw_frame(framedata)\n",
      "  File \"/usr/lib/python3/dist-packages/matplotlib/animation.py\", line 1755, in _draw_frame\n",
      "    self._drawn_artists = self._func(framedata, *self._args)\n",
      "  File \"/tmp/ipykernel_13848/3386450153.py\", line 44, in animate\n",
      "    arrow.remove()\n",
      "  File \"/usr/lib/python3/dist-packages/matplotlib/quiver.py\", line 540, in remove\n",
      "    mcollections.PolyCollection.remove(self)\n",
      "  File \"/usr/lib/python3/dist-packages/matplotlib/artist.py\", line 137, in remove\n",
      "    self._remove_method(self)\n",
      "ValueError: list.remove(x): x not in list\n"
     ]
    },
    {
     "data": {
      "application/vnd.jupyter.widget-view+json": {
       "model_id": "55ff55519ff54653a32033f8c858c87a",
       "version_major": 2,
       "version_minor": 0
      },
      "text/plain": [
       "Canvas(toolbar=Toolbar(toolitems=[('Home', 'Reset original view', 'home', 'home'), ('Back', 'Back to previous …"
      ]
     },
     "metadata": {},
     "output_type": "display_data"
    },
    {
     "name": "stderr",
     "output_type": "stream",
     "text": [
      "Removing previous callback, only one redirection possible right now\n"
     ]
    }
   ],
   "source": [
    "# First set up the figure and the axis \n",
    "fig, ax = plt.subplots()\n",
    "\n",
    "ax.set_xlim(( -10, 10))\n",
    "ax.set_ylim((-10, 10))\n",
    "plt.xlabel(\"X\")\n",
    "plt.ylabel(\"Y\")\n",
    "plt.title(\"Robot positon\")\n",
    "\n",
    "line, = ax.plot([], [], 'ro')\n",
    "x_pos=0\n",
    "y_pos=0\n",
    "x_data=collections.deque(maxlen=300)\n",
    "y_data=collections.deque(maxlen=300)\n",
    "yaw=0\n",
    "theta=collections.deque(maxlen=300)\n",
    "arrow = ax.quiver(1,1,1,1, alpha = 0)\n",
    "\n",
    "\n",
    "def init():\n",
    "    line.set_data([], [])\n",
    "    return (line,)\n",
    "\n",
    "\n",
    "def odom_callback(msg):\n",
    "    global x_data,y_data,yaw,theta,actual_linear_vel,actual_angular_vel\n",
    "    x_pos=msg.pose.pose.position.x\n",
    "    y_pos=msg.pose.pose.position.y\n",
    "    y_data.append(y_pos)\n",
    "    x_data.append(x_pos)\n",
    "\n",
    "    quaternion = (\n",
    "        msg.pose.pose.orientation.x,\n",
    "        msg.pose.pose.orientation.y,\n",
    "        msg.pose.pose.orientation.z,\n",
    "        msg.pose.pose.orientation.w)\n",
    "    euler = transformations.euler_from_quaternion(quaternion)\n",
    "    yaw = euler[2]\n",
    "    theta.append(yaw)\n",
    "    \n",
    "def animate(i):\n",
    "    global x_data,y_data,yaw,arrow,theta\n",
    "    arrow.remove()\n",
    "    x = x_data[-1]\n",
    "    y = y_data[-1]\n",
    "    line.set_data(x_data, y_data)\n",
    "    a = np.cos(theta[-1]) \n",
    "    b = np.sin(theta[-1])\n",
    "    arrow = ax.quiver(x, y, a, b,scale = 0.5, color='r', pivot = 'tail', units='xy', alpha=0.6, edgecolor = 'black')\n",
    "    return (line,arrow)\n",
    "\n",
    "\n",
    "jr.subscribe('/odom', Odometry, odom_callback)\n",
    "\n",
    "# call the animator. blit=True means only re-draw the parts that have changed.\n",
    "\n",
    "anim = animation.FuncAnimation(fig, animate, init_func=init, blit=True)"
   ]
  },
  {
   "cell_type": "markdown",
   "id": "7d5b1bb8",
   "metadata": {},
   "source": [
    "## compare the actual velocity with cmd_vel"
   ]
  },
  {
   "cell_type": "code",
   "execution_count": 5,
   "id": "e7bef06f",
   "metadata": {
    "ExecuteTime": {
     "end_time": "2021-07-25T07:49:19.507500Z",
     "start_time": "2021-07-25T07:49:19.499075Z"
    }
   },
   "outputs": [
    {
     "name": "stdout",
     "output_type": "stream",
     "text": [
      "[-3.397972538200226, -3.398298397028391, -3.39863646774669, -3.3989055522067484, -3.3991931606746126, -3.3994485435789947, -3.399725695250403, -3.400028964863522, -3.4002681407858883, -3.4006563349175725, -3.4008996807004315, -3.401037799754544, -3.4012373844776445, -3.401518601287138, -3.401791874459437, -3.4020178810331227, -3.4020911607127586, -3.4022539535772562, -3.402435554644873, -3.4024833900569544, -3.4026124428998443, -3.4029453979921325, -3.403267427928375, -3.403578740071346, -3.403879285827117, -3.4041690207261954, -3.4044479013005793, -3.4047158839431337, -3.404972923800817, -3.405216320671898, -3.4054476494077472, -3.405667287062112, -3.4058752771375387, -3.4060716032844245, -3.4062599900806547, -3.4064372348811087, -3.4064509471585467, -3.4063604225681834, -3.4062785028119675, -3.406167387761093, -3.406183646865607, -3.4063021649475376, -3.406408492189078, -3.406502656153854, -3.406584549450676, -3.406654060890513, -3.4066662252151105, -3.4064426203680305, -3.4061376765929126, -3.4060095882862407, -3.4058266706405322, -3.4055731113782097, -3.405163480452924, -3.404919166827736, -3.404636181837012, -3.4043877613294042, -3.404090368758329, -3.4038165195703005, -3.4035658340949357, -3.4031841025904246]\n"
     ]
    }
   ],
   "source": [
    "print(x_data)"
   ]
  },
  {
   "cell_type": "markdown",
   "id": "a8c1150c",
   "metadata": {},
   "source": [
    "- a line plot for visualizing cmd_vel vs. actual velocity (for linear and angular velocity)"
   ]
  },
  {
   "cell_type": "code",
   "execution_count": 4,
   "id": "065473e4",
   "metadata": {
    "ExecuteTime": {
     "end_time": "2021-07-25T07:48:15.607276Z",
     "start_time": "2021-07-25T07:48:15.473002Z"
    }
   },
   "outputs": [
    {
     "data": {
      "application/vnd.jupyter.widget-view+json": {
       "model_id": "1c5d3b763cd44ac9814ae707bc27f6c0",
       "version_major": 2,
       "version_minor": 0
      },
      "text/plain": [
       "Canvas(toolbar=Toolbar(toolitems=[('Home', 'Reset original view', 'home', 'home'), ('Back', 'Back to previous …"
      ]
     },
     "metadata": {},
     "output_type": "display_data"
    },
    {
     "name": "stderr",
     "output_type": "stream",
     "text": [
      "Removing previous callback, only one redirection possible right now\n"
     ]
    }
   ],
   "source": [
    "fig1, ax1 = plt.subplots()\n",
    "\n",
    "ax1.set_xlim(( 0, 100))\n",
    "ax1.set_ylim((-1.2, 1.2))\n",
    "\n",
    "linear_cmd_vel=[]\n",
    "angular_cmd_vel=[]\n",
    "actual_linear_vel=[]\n",
    "actual_angular_vel=[]\n",
    "\n",
    "time=[]\n",
    "odom_time=[]\n",
    "\n",
    "line1, = ax1.plot([], [], 'r-')\n",
    "line2, = ax1.plot([], [], 'b-')\n",
    "line3, = ax1.plot([], [], 'c-')\n",
    "line4, = ax1.plot([], [], 'y-')\n",
    "zero_time = rospy.get_time()\n",
    "\n",
    "def init1():\n",
    "    line1.set_data([], [])\n",
    "    line2.set_data([], [])\n",
    "    line3.set_data([], [])\n",
    "    line4.set_data([], [])\n",
    "    return (line1,line2,line3,line4)\n",
    "\n",
    "def twist_callback(msg):\n",
    "    global linear_cmd_vel,angular_cmd_vel,zero_time,time\n",
    "    linear_cmd_vel.append(msg.linear.x)\n",
    "    angular_cmd_vel.append(msg.angular.z)\n",
    "    time.append(rospy.get_time()-zero_time)\n",
    "\n",
    "def odom_vel_callback(msg):\n",
    "    global actual_linear_vel,actual_angular_vel,odom_time,zero_time\n",
    "    actual_linear_vel.append(msg.twist.twist.linear.x)\n",
    "    actual_angular_vel.append(-1.85*msg.twist.twist.angular.z)\n",
    "    odom_time.append(rospy.get_time()-zero_time)\n",
    "\n",
    "def animate1(i):\n",
    "    global linear_cmd_vel,angular_cmd_vel,time,odom_time,actual_linear_vel,actual_angular_vel\n",
    "    line1.set_data(time,linear_cmd_vel)\n",
    "    line2.set_data(time, angular_cmd_vel)\n",
    "    line3.set_data(odom_time, actual_linear_vel)\n",
    "    line4.set_data(odom_time, actual_angular_vel)\n",
    "\n",
    "    return (line1,line2,line3,line4)\n",
    "\n",
    "jr.subscribe('/odom', Odometry, odom_vel_callback)\n",
    "jr.subscribe('/cmd_vel', Twist, twist_callback)\n",
    "\n",
    "anim = animation.FuncAnimation(fig1, animate1, init_func=init1,\n",
    "                               frames=100, interval=20, blit=True)"
   ]
  },
  {
   "cell_type": "markdown",
   "id": "27b73e17",
   "metadata": {},
   "source": [
    "- a boxplot displaying the number of reached targets and cancelled targets\n"
   ]
  },
  {
   "cell_type": "markdown",
   "id": "ec1ad772",
   "metadata": {
    "ExecuteTime": {
     "start_time": "2021-07-24T16:12:34.848Z"
    }
   },
   "source": [
    "## display the robot status\n",
    "- a boxplot displaying the number of reached targets and cancelled targets\n",
    "- subscribe /go_to_point/result and update the number of goal and cancel"
   ]
  },
  {
   "cell_type": "code",
   "execution_count": 5,
   "id": "e3f48b6a",
   "metadata": {
    "ExecuteTime": {
     "end_time": "2021-07-25T07:45:15.582668Z",
     "start_time": "2021-07-25T07:45:15.501684Z"
    }
   },
   "outputs": [
    {
     "data": {
      "application/vnd.jupyter.widget-view+json": {
       "model_id": "c04bb15a708a4b85a464062b49278e0c",
       "version_major": 2,
       "version_minor": 0
      },
      "text/plain": [
       "Canvas(toolbar=Toolbar(toolitems=[('Home', 'Reset original view', 'home', 'home'), ('Back', 'Back to previous …"
      ]
     },
     "metadata": {},
     "output_type": "display_data"
    }
   ],
   "source": [
    "ngoal=0\n",
    "ncancel=0\n",
    "fig2, ax2 = plt.subplots()\n",
    "\n",
    "ax2.set_xlim(( 0, 2))\n",
    "ax2.set_ylim((0.0, 10))\n",
    "\n",
    "def result_callback(msg):\n",
    "    global ngoal, ncancel\n",
    "    if msg.result.reached==True:\n",
    "        ngoal=ngoal+1\n",
    "        print(ngoal)\n",
    "    #elif msg.result.reached==False:\n",
    "    else:\n",
    "        ncancel=ncancel+1\n",
    "\n",
    "def animate2(i):\n",
    "    global ngoal,ncancel\n",
    "    index=1\n",
    "    ax2.bar(index,ngoal,label=\"the number of goal\", align=\"center\", color='blue', width=0.35)\n",
    "    ax2.bar(index+0.35, ncancel, align='center', width=0.35,color='r', label='the number of cancel') \n",
    "        \n",
    "jr.subscribe('/go_to_point/result', rt2_assignment1.msg.MotionActionResult, result_callback)\n",
    "\n",
    "anim = animation.FuncAnimation(fig2, animate2, \n",
    "                               frames=100, interval=20,blit=True)"
   ]
  },
  {
   "cell_type": "markdown",
   "id": "5f524efd",
   "metadata": {},
   "source": [
    "## show the required time to reach goals\n",
    "- a hist plot showing the time required to reach targets\n",
    "- prepare the topic /reached_time"
   ]
  },
  {
   "cell_type": "code",
   "execution_count": 6,
   "id": "280feebd",
   "metadata": {
    "ExecuteTime": {
     "end_time": "2021-07-25T07:45:16.751774Z",
     "start_time": "2021-07-25T07:45:16.682031Z"
    }
   },
   "outputs": [
    {
     "data": {
      "application/vnd.jupyter.widget-view+json": {
       "model_id": "6aa9183a02624016a595740e5ef41f22",
       "version_major": 2,
       "version_minor": 0
      },
      "text/plain": [
       "Canvas(toolbar=Toolbar(toolitems=[('Home', 'Reset original view', 'home', 'home'), ('Back', 'Back to previous …"
      ]
     },
     "metadata": {},
     "output_type": "display_data"
    }
   ],
   "source": [
    "fig3, ax3 = plt.subplots()\n",
    "ax3.set_ylim((0.0, 5))\n",
    "goal_time_array=[]\n",
    "index=0\n",
    "def init3():\n",
    "    print('init')\n",
    "def reached_callback(msg):\n",
    "    global goal_time_array\n",
    "    goal_time_array.append(msg.data)\n",
    "    print(goal_time_array)\n",
    "    \n",
    "def animate3(i):\n",
    "    global goal_time_array\n",
    "    ax3.hist(goal_time_array,bins=10, align='mid',ec=\"green\", fc=\"green\", alpha=0.5) \n",
    "\n",
    "\n",
    "jr.subscribe('/reached_time', Float32 , reached_callback)\n",
    "\n",
    "anim = animation.FuncAnimation(fig3, animate3,init_func=init3, \n",
    "                               frames=100, interval=200,blit=True)"
   ]
  },
  {
   "cell_type": "code",
   "execution_count": null,
   "id": "a9d210c2",
   "metadata": {
    "hide_input": true
   },
   "outputs": [],
   "source": []
  }
 ],
 "metadata": {
  "hide_input": false,
  "kernelspec": {
   "display_name": "Python 3 (ipykernel)",
   "language": "python",
   "name": "python3"
  },
  "language_info": {
   "codemirror_mode": {
    "name": "ipython",
    "version": 3
   },
   "file_extension": ".py",
   "mimetype": "text/x-python",
   "name": "python",
   "nbconvert_exporter": "python",
   "pygments_lexer": "ipython3",
   "version": "3.8.5"
  },
  "toc": {
   "base_numbering": 1,
   "nav_menu": {},
   "number_sections": true,
   "sideBar": true,
   "skip_h1_title": false,
   "title_cell": "Table of Contents",
   "title_sidebar": "Contents",
   "toc_cell": false,
   "toc_position": {
    "height": "calc(100% - 180px)",
    "left": "10px",
    "top": "150px",
    "width": "165px"
   },
   "toc_section_display": true,
   "toc_window_display": true
  },
  "varInspector": {
   "cols": {
    "lenName": 16,
    "lenType": 16,
    "lenVar": 40
   },
   "kernels_config": {
    "python": {
     "delete_cmd_postfix": "",
     "delete_cmd_prefix": "del ",
     "library": "var_list.py",
     "varRefreshCmd": "print(var_dic_list())"
    },
    "r": {
     "delete_cmd_postfix": ") ",
     "delete_cmd_prefix": "rm(",
     "library": "var_list.r",
     "varRefreshCmd": "cat(var_dic_list()) "
    }
   },
   "position": {
    "height": "738.688px",
    "left": "1340.52px",
    "right": "20px",
    "top": "119.969px",
    "width": "479px"
   },
   "types_to_exclude": [
    "module",
    "function",
    "builtin_function_or_method",
    "instance",
    "_Feature"
   ],
   "window_display": true
  }
 },
 "nbformat": 4,
 "nbformat_minor": 5
}
