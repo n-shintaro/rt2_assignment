{
 "cells": [
  {
   "cell_type": "markdown",
   "id": "73a947ef",
   "metadata": {},
   "source": [
    "# Visuliazation of some paramaters of robot\n",
    "- this jupyter notbook show the variables related to the robot\n"
   ]
  },
  {
   "cell_type": "markdown",
   "id": "bd166e9b",
   "metadata": {},
   "source": [
    "## import"
   ]
  },
  {
   "cell_type": "code",
   "execution_count": 1,
   "id": "5aacb90a",
   "metadata": {},
   "outputs": [],
   "source": [
    "%matplotlib widget\n",
    "import numpy as np\n",
    "import matplotlib.pyplot as plt\n",
    "import jupyros as jr\n",
    "import rospy\n",
    "from nav_msgs.msg import Odometry\n",
    "from matplotlib import animation, rc\n",
    "import rt2_assignment1.msg\n",
    "from geometry_msgs.msg import Twist\n",
    "from std_msgs.msg import Float32\n",
    "from ipywidgets import Button, Layout, ButtonStyle, GridBox, VBox, HBox \n",
    "import ipywidgets as widgets\n",
    "from rt2_assignment1.srv import Command\n",
    "from IPython.display import display\n",
    "from tf import transformations\n",
    "import actionlib\n",
    "import actionlib.msg\n",
    "import collections\n",
    "import math\n",
    "\n",
    "rospy.init_node('visualized_node')"
   ]
  },
  {
   "cell_type": "markdown",
   "id": "0a41d6e3",
   "metadata": {},
   "source": [
    "## display the movemennt of the robot"
   ]
  },
  {
   "cell_type": "markdown",
   "id": "1af1f428",
   "metadata": {},
   "source": [
    "# visualize the trajectory of the robot\n",
    "- a line plot for visualizing cmd_vel vs. actual velocity (for linear and angular velocity) \n",
    "https://python.atelierkobato.com/annotate/\n",
    "https://www.it-swarm-ja.com/ja/python/python-matplotlib%E3%82%A2%E3%83%8B%E3%83%A1%E3%83%BC%E3%82%B7%E3%83%A7%E3%83%B3%E3%81%A7%E5%81%9C%E6%AD%A2%E9%96%8B%E5%A7%8B%E4%B8%80%E6%99%82%E5%81%9C%E6%AD%A2/1073484243/"
   ]
  },
  {
   "cell_type": "markdown",
   "id": "a8c70c8e",
   "metadata": {},
   "source": [
    "- an xy graph showing the robot’s position and the orientation "
   ]
  },
  {
   "cell_type": "code",
   "execution_count": 2,
   "id": "640528ad",
   "metadata": {},
   "outputs": [
    {
     "data": {
      "application/vnd.jupyter.widget-view+json": {
       "model_id": "0d3f9e75d6dd4f408b12c7e7538d882a",
       "version_major": 2,
       "version_minor": 0
      },
      "text/plain": [
       "Canvas(toolbar=Toolbar(toolitems=[('Home', 'Reset original view', 'home', 'home'), ('Back', 'Back to previous …"
      ]
     },
     "metadata": {},
     "output_type": "display_data"
    }
   ],
   "source": [
    "# First set up the figure and the axis \n",
    "fig, ax = plt.subplots()\n",
    "\n",
    "ax.set_xlim(( -10, 10))\n",
    "ax.set_ylim((-10, 10))\n",
    "\n",
    "line, = ax.plot([], [], 'ro')\n",
    "x_pos=0\n",
    "y_pos=0\n",
    "x_data=collections.deque(maxlen=10)\n",
    "y_data=collections.deque(maxlen=10)\n",
    "yaw=0\n",
    "theta=collections.deque(maxlen=10)\n",
    "arrow = ax.quiver(1,1,1,1, alpha = 0)\n",
    "\n",
    "def init():\n",
    "    line.set_data([], [])\n",
    "    return (line,)\n",
    "\n",
    "\n",
    "def odom_callback(msg):\n",
    "    #global x_data,y_data,yaw,theta\n",
    "    x_pos=msg.pose.pose.position.x\n",
    "    print(x_pos)\n",
    "    y_pos=msg.pose.pose.position.y\n",
    "    y_data.append(y_pos)\n",
    "    x_data.append(x_pos)\n",
    "\n",
    "    quaternion = (\n",
    "        msg.pose.pose.orientation.x,\n",
    "        msg.pose.pose.orientation.y,\n",
    "        msg.pose.pose.orientation.z,\n",
    "        msg.pose.pose.orientation.w)\n",
    "    euler = transformations.euler_from_quaternion(quaternion)\n",
    "    yaw = euler[2]\n",
    "    theta.append(yaw)\n",
    "    \n",
    "\n",
    "def animate(i):\n",
    "    #global x_data,y_data,yaw,arrow,theta\n",
    "    global arrow\n",
    "    arrow.remove()\n",
    "    line.set_data(x_data, y_data)\n",
    "    \n",
    "#     point = {\n",
    "#         'start': [x_data[-1], y_data[-1]],\n",
    "#         'end': [x_data[-1]+x_data[-1]*math.cos(yaw), y_data[-1]+y_data[-1]*math.sin(yaw)]\n",
    "#     }\n",
    "#     arrow = plt.Arrow(x=x_pos,y=y_pos,dx=10*np.cos(yaw),dy=10*np.cos(yaw),width=0.01,head_width=0.05,head_length=0.2,length_includes_head=True,color='k')\n",
    "#     arrow=ax.annotate('', xy=point['end'], xytext=point['start'],\n",
    "#                 arrowprops=dict(shrink=0, width=1, headwidth=8, \n",
    "#                                 headlength=10, connectionstyle='arc3',\n",
    "#                                 facecolor='gray', edgecolor='gray')\n",
    "#                )\n",
    "#     ax.add_patch(arrow)\n",
    "    x = x_data[-1]\n",
    "    y = y_data[-1]\n",
    "    a = np.cos(yaw) \n",
    "    b = np.sin(yaw)\n",
    "    arrow = ax.quiver(x, y, a, b,scale = 0.5, color='k', pivot = 'tail', units='xy', alpha=0.6, edgecolor = 'black')\n",
    "    \n",
    "    return (line,arrow)\n",
    "\n",
    "\n",
    "\n",
    "jr.subscribe('/odom', Odometry, odom_callback)\n",
    "\n",
    "# call the animator. blit=True means only re-draw the parts that have changed.\n",
    "\n",
    "anim = animation.FuncAnimation(fig, animate, init_func=init, blit=True)"
   ]
  },
  {
   "cell_type": "code",
   "execution_count": 7,
   "id": "c3f2b261",
   "metadata": {},
   "outputs": [
    {
     "name": "stderr",
     "output_type": "stream",
     "text": [
      "ERROR:tornado.application:Exception in callback <bound method TimerBase._on_timer of <matplotlib.backends.backend_webagg_core.TimerTornado object at 0x7f357cc4e490>>\n",
      "Traceback (most recent call last):\n",
      "  File \"/usr/local/lib/python3.8/dist-packages/tornado/ioloop.py\", line 905, in _run\n",
      "    return self.callback()\n",
      "  File \"/usr/lib/python3/dist-packages/matplotlib/backend_bases.py\", line 1194, in _on_timer\n",
      "    ret = func(*args, **kwargs)\n",
      "  File \"/usr/lib/python3/dist-packages/matplotlib/animation.py\", line 1447, in _step\n",
      "    still_going = Animation._step(self, *args)\n",
      "  File \"/usr/lib/python3/dist-packages/matplotlib/animation.py\", line 1173, in _step\n",
      "    self._draw_next_frame(framedata, self._blit)\n",
      "  File \"/usr/lib/python3/dist-packages/matplotlib/animation.py\", line 1192, in _draw_next_frame\n",
      "    self._draw_frame(framedata)\n",
      "  File \"/usr/lib/python3/dist-packages/matplotlib/animation.py\", line 1755, in _draw_frame\n",
      "    self._drawn_artists = self._func(framedata, *self._args)\n",
      "  File \"/tmp/ipykernel_14692/450274469.py\", line 26, in animate\n",
      "    Q.remove()\n",
      "  File \"/usr/lib/python3/dist-packages/matplotlib/quiver.py\", line 540, in remove\n",
      "    mcollections.PolyCollection.remove(self)\n",
      "  File \"/usr/lib/python3/dist-packages/matplotlib/artist.py\", line 137, in remove\n",
      "    self._remove_method(self)\n",
      "ValueError: list.remove(x): x not in list\n",
      "ERROR:tornado.application:Exception in callback <bound method TimerBase._on_timer of <matplotlib.backends.backend_webagg_core.TimerTornado object at 0x7f358c0536a0>>\n",
      "Traceback (most recent call last):\n",
      "  File \"/usr/local/lib/python3.8/dist-packages/tornado/ioloop.py\", line 905, in _run\n",
      "    return self.callback()\n",
      "  File \"/usr/lib/python3/dist-packages/matplotlib/backend_bases.py\", line 1194, in _on_timer\n",
      "    ret = func(*args, **kwargs)\n",
      "  File \"/usr/lib/python3/dist-packages/matplotlib/animation.py\", line 1447, in _step\n",
      "    still_going = Animation._step(self, *args)\n",
      "  File \"/usr/lib/python3/dist-packages/matplotlib/animation.py\", line 1173, in _step\n",
      "    self._draw_next_frame(framedata, self._blit)\n",
      "  File \"/usr/lib/python3/dist-packages/matplotlib/animation.py\", line 1192, in _draw_next_frame\n",
      "    self._draw_frame(framedata)\n",
      "  File \"/usr/lib/python3/dist-packages/matplotlib/animation.py\", line 1755, in _draw_frame\n",
      "    self._drawn_artists = self._func(framedata, *self._args)\n",
      "  File \"/tmp/ipykernel_14692/3691572418.py\", line 42, in animate\n",
      "    arrow.remove()\n",
      "  File \"/usr/lib/python3/dist-packages/matplotlib/quiver.py\", line 540, in remove\n",
      "    mcollections.PolyCollection.remove(self)\n",
      "  File \"/usr/lib/python3/dist-packages/matplotlib/artist.py\", line 137, in remove\n",
      "    self._remove_method(self)\n",
      "ValueError: list.remove(x): x not in list\n"
     ]
    },
    {
     "data": {
      "application/vnd.jupyter.widget-view+json": {
       "model_id": "4903b77a04fb4fbf8168289deaee0d1f",
       "version_major": 2,
       "version_minor": 0
      },
      "text/plain": [
       "Canvas(toolbar=Toolbar(toolitems=[('Home', 'Reset original view', 'home', 'home'), ('Back', 'Back to previous …"
      ]
     },
     "metadata": {},
     "output_type": "display_data"
    },
    {
     "name": "stderr",
     "output_type": "stream",
     "text": [
      "Removing previous callback, only one redirection possible right now\n"
     ]
    }
   ],
   "source": [
    "# First set up the figures and the axis \n",
    "    # Robot position and orientation\n",
    "fig, ax = plt.subplots()\n",
    "ax.set_xlim(( -10, 10))\n",
    "ax.set_ylim((-10, 10))\n",
    "ax.set_aspect(\"equal\")\n",
    "plt.xlabel(\"X\")\n",
    "plt.ylabel(\"Y\")\n",
    "plt.title(\"Robot positon\")\n",
    "\n",
    "line, = ax.plot([], [], 'ro', markersize=\"5\")\n",
    "\n",
    "x_data =  collections.deque(maxlen=300)\n",
    "y_data = collections.deque(maxlen=300)\n",
    "theta_data = collections.deque(maxlen=300)\n",
    "\n",
    "#quiver initialization\n",
    "Q = ax.quiver(1,1,1,1, alpha = 0)\n",
    "\n",
    "def init():\n",
    "    line.set_data([], [])\n",
    "    return (line,)\n",
    "    \n",
    "def animate(i):\n",
    "    global Q\n",
    "    Q.remove()\n",
    "    \n",
    "    line.set_data(x_data, y_data)     \n",
    "    delta = 0.2\n",
    "    X = x_data[-1] + delta * np.cos(theta_data[-1])\n",
    "    Y = y_data[-1] + delta * np.sin(theta_data[-1])\n",
    "    U = delta * np.cos(theta_data[-1]) + np.cos(theta_data[-1])\n",
    "    V = delta * np.sin(theta_data[-1]) + np.sin(theta_data[-1])\n",
    "    Q = ax.quiver(X, Y, U, V,scale = 0.5, color='k', pivot = 'tail', units='xy', alpha=0.6, edgecolor = 'gray')\n",
    "    return (line, Q)\n",
    "\n",
    "def odom_callback(msg):\n",
    "    y_data.append(msg.pose.pose.position.y)\n",
    "    x_data.append(msg.pose.pose.position.x)\n",
    "    quaternion = (msg.pose.pose.orientation.x, msg.pose.pose.orientation.y,msg.pose.pose.orientation.z, msg.pose.pose.orientation.w)\n",
    "    euler_angles = transformations.euler_from_quaternion(quaternion)\n",
    "    theta_data.append(euler_angles[2]) \n",
    "      \n",
    "                  \n",
    "# Read robot odometry\n",
    "jr.subscribe('/odom', Odometry, odom_callback)\n",
    "\n",
    "# call the animator. blit=True means only re-draw the parts that have changed.)\n",
    "anim_position = animation.FuncAnimation(fig, animate, init_func=init, blit=True)"
   ]
  },
  {
   "cell_type": "markdown",
   "id": "a8c1150c",
   "metadata": {},
   "source": [
    "- a line plot for visualizing cmd_vel vs. actual velocity (for linear and angular velocity)"
   ]
  },
  {
   "cell_type": "code",
   "execution_count": 3,
   "id": "065473e4",
   "metadata": {},
   "outputs": [
    {
     "data": {
      "application/vnd.jupyter.widget-view+json": {
       "model_id": "a8b7b0d0e13b4e4ebd4f97191fd982a2",
       "version_major": 2,
       "version_minor": 0
      },
      "text/plain": [
       "Canvas(toolbar=Toolbar(toolitems=[('Home', 'Reset original view', 'home', 'home'), ('Back', 'Back to previous …"
      ]
     },
     "metadata": {},
     "output_type": "display_data"
    }
   ],
   "source": [
    "fig1, ax1 = plt.subplots()\n",
    "\n",
    "ax1.set_xlim(( 0, 100))\n",
    "ax1.set_ylim((-1.2, 1.2))\n",
    "\n",
    "linear_cmd_vel=[]\n",
    "angular_cmd_vel=[]\n",
    "angular_cmd_vel=[]\n",
    "\n",
    "time=[]\n",
    "\n",
    "line1, = ax1.plot([], [], 'r-')\n",
    "line2, = ax1.plot([], [], 'b-')\n",
    "line3, = ax1.plot([], [], 'k*')\n",
    "zero_time = rospy.get_time()\n",
    "\n",
    "def init1():\n",
    "    line1.set_data([], [])\n",
    "    line2.set_data([], [])\n",
    "    line3.set_data([], [])\n",
    "    return (line1,line2,line3)\n",
    "\n",
    "def twist_callback(msg):\n",
    "    global linear_cmd_vel,angular_cmd_vel,zero_time,time\n",
    "    linear_cmd_vel.append(msg.linear.x)\n",
    "    angular_cmd_vel.append(msg.angular.z)\n",
    "    time.append(rospy.get_time()-zero_time)\n",
    "\n",
    "def animate1(i):\n",
    "    global linear_cmd_vel,angular_cmd_vel,time,actual_linear_vel\n",
    "    line1.set_data(time,linear_cmd_vel)\n",
    "    line2.set_data(time, angular_cmd_vel)\n",
    "    #line3.set_data(time, actual_linear_vel)\n",
    "\n",
    "    return (line1,line2,line3)\n",
    "\n",
    "jr.subscribe('/cmd_vel', Twist, twist_callback)\n",
    "\n",
    "anim = animation.FuncAnimation(fig1, animate1, init_func=init1,\n",
    "                               frames=100, interval=20, blit=True)"
   ]
  },
  {
   "cell_type": "markdown",
   "id": "27b73e17",
   "metadata": {},
   "source": [
    "- a boxplot displaying the number of reached targets and cancelled targets\n"
   ]
  },
  {
   "cell_type": "code",
   "execution_count": 5,
   "id": "c4e9ed0e",
   "metadata": {},
   "outputs": [],
   "source": [
    "# fig2, ax2 = plt.subplots()\n",
    "\n",
    "# ax2.set_xlim(( 0, 2))\n",
    "# ax2.set_ylim((0.0, 10))\n",
    "# ngoal= 0\n",
    "# ncancel=0\n",
    "# goal=0\n",
    "\n",
    "# def init2():\n",
    "#     ngoal= rospy.get_param(\"goal_param\")\n",
    "#     ncancel= rospy.get_param(\"goal_param\")\n",
    "#     goal=0\n",
    "\n",
    "# def animate2(i):\n",
    "#     global ngoal,ncancel,goal\n",
    "#     index=1\n",
    "#     goal=goal+1\n",
    "#     ngoal= rospy.get_param(\"goal_param\")\n",
    "#     ncancel=rospy.get_param(\"cancel_param\")\n",
    "#     ax2.bar(index,ngoal,label=\"the number of goal\", align=\"center\", color='blue', width=0.35)\n",
    "#     ax2.bar(index+0.35, ncancel, align='center', width=0.35,color='r', label='the number of cancel') \n",
    "\n",
    "# # def animate2(i):\n",
    "# #     global ngoal,ncancel,goal\n",
    "# #     print()\n",
    "# #     index=1\n",
    "\n",
    "# anim = animation.FuncAnimation(fig2, animate2,init_func=init2, \n",
    "#                                frames=100, interval=20,blit=True)"
   ]
  },
  {
   "cell_type": "code",
   "execution_count": 7,
   "id": "e3f48b6a",
   "metadata": {},
   "outputs": [
    {
     "data": {
      "application/vnd.jupyter.widget-view+json": {
       "model_id": "077fddce05644a35ba6b57a7bb59e7b6",
       "version_major": 2,
       "version_minor": 0
      },
      "text/plain": [
       "Canvas(toolbar=Toolbar(toolitems=[('Home', 'Reset original view', 'home', 'home'), ('Back', 'Back to previous …"
      ]
     },
     "metadata": {},
     "output_type": "display_data"
    },
    {
     "name": "stderr",
     "output_type": "stream",
     "text": [
      "Removing previous callback, only one redirection possible right now\n"
     ]
    }
   ],
   "source": [
    "ngoal=0\n",
    "ncancel=0\n",
    "fig2, ax2 = plt.subplots()\n",
    "\n",
    "ax2.set_xlim(( 0, 2))\n",
    "ax2.set_ylim((0.0, 10))\n",
    "\n",
    "def result_callback(msg):\n",
    "    global ngoal, ncancel\n",
    "    if msg.result.reached==True:\n",
    "        ngoal=ngoal+1\n",
    "        print(ngoal)\n",
    "    #elif msg.result.reached==False:\n",
    "    else:\n",
    "        ncancel=ncancel+1\n",
    "\n",
    "def animate2(i):\n",
    "    global ngoal,ncancel\n",
    "    index=1\n",
    "    ax2.bar(index,ngoal,label=\"the number of goal\", align=\"center\", color='blue', width=0.35)\n",
    "    ax2.bar(index+0.35, ncancel, align='center', width=0.35,color='r', label='the number of cancel') \n",
    "        \n",
    "jr.subscribe('/go_to_point/result', rt2_assignment1.msg.MotionActionResult, result_callback)\n",
    "\n",
    "anim = animation.FuncAnimation(fig2, animate2, \n",
    "                               frames=100, interval=20,blit=True)"
   ]
  },
  {
   "cell_type": "code",
   "execution_count": 8,
   "id": "b177c05c",
   "metadata": {},
   "outputs": [
    {
     "name": "stdout",
     "output_type": "stream",
     "text": [
      "0\n"
     ]
    }
   ],
   "source": [
    "print(ngoal)"
   ]
  },
  {
   "cell_type": "markdown",
   "id": "5f524efd",
   "metadata": {},
   "source": [
    "- a hist plot showing the time required to reach targets"
   ]
  },
  {
   "cell_type": "code",
   "execution_count": 9,
   "id": "280feebd",
   "metadata": {},
   "outputs": [
    {
     "data": {
      "application/vnd.jupyter.widget-view+json": {
       "model_id": "b0d7f3f8a1c14b6e98bca611a018272e",
       "version_major": 2,
       "version_minor": 0
      },
      "text/plain": [
       "Canvas(toolbar=Toolbar(toolitems=[('Home', 'Reset original view', 'home', 'home'), ('Back', 'Back to previous …"
      ]
     },
     "metadata": {},
     "output_type": "display_data"
    }
   ],
   "source": [
    "fig3, ax3 = plt.subplots()\n",
    "ax3.set_ylim((0.0, 5))\n",
    "goal_time_array=[]\n",
    "index=0\n",
    "def init3():\n",
    "    print('init')\n",
    "def reached_callback(msg):\n",
    "    global goal_time_array\n",
    "    goal_time_array.append(msg.data)\n",
    "    print(goal_time_array)\n",
    "    \n",
    "def animate3(i):\n",
    "    global goal_time_array\n",
    "    ax3.hist(goal_time_array,bins=10, align='mid',ec=\"yellow\", fc=\"green\", alpha=0.5) \n",
    "jr.subscribe('/reached_time', Float32 , reached_callback)\n",
    "\n",
    "anim = animation.FuncAnimation(fig3, animate3,init_func=init3, \n",
    "                               frames=100, interval=200,blit=True)"
   ]
  },
  {
   "cell_type": "code",
   "execution_count": 10,
   "id": "f9ddca43",
   "metadata": {},
   "outputs": [
    {
     "data": {
      "application/vnd.jupyter.widget-view+json": {
       "model_id": "145e56f7940b4195b759b425c2f7810a",
       "version_major": 2,
       "version_minor": 0
      },
      "text/plain": [
       "Canvas(toolbar=Toolbar(toolitems=[('Home', 'Reset original view', 'home', 'home'), ('Back', 'Back to previous …"
      ]
     },
     "metadata": {},
     "output_type": "display_data"
    },
    {
     "name": "stderr",
     "output_type": "stream",
     "text": [
      "Removing previous callback, only one redirection possible right now\n"
     ]
    },
    {
     "data": {
      "application/vnd.jupyter.widget-view+json": {
       "model_id": "a99cd677a56942d7a27f9aea9d24bd2c",
       "version_major": 2,
       "version_minor": 0
      },
      "text/plain": [
       "VBox(children=(HBox(children=(Button(description='Stop', style=ButtonStyle()),)), Output(layout=Layout(border=…"
      ]
     },
     "metadata": {},
     "output_type": "display_data"
    }
   ],
   "source": [
    "goal_time_array=[]\n",
    "fig3, ax3 = plt.subplots()\n",
    "ax3.set_ylim((0.0, 1))\n",
    "\n",
    "def reached_callback(msg):\n",
    "    global goal_time_array\n",
    "    goal_time_array.append(msg.data)\n",
    "    print(goal_time_array)\n",
    "    ax3.hist(goal_time_array,bins=15, lw=1,ec=\"yellow\", fc=\"green\", alpha=0.5) \n",
    "\n",
    "jr.subscribe('/reached_time', Float32 , reached_callback)"
   ]
  },
  {
   "cell_type": "code",
   "execution_count": null,
   "id": "a9d210c2",
   "metadata": {
    "hide_input": true
   },
   "outputs": [],
   "source": []
  },
  {
   "cell_type": "code",
   "execution_count": null,
   "id": "e5ee5a0a",
   "metadata": {},
   "outputs": [],
   "source": []
  }
 ],
 "metadata": {
  "hide_input": false,
  "kernelspec": {
   "display_name": "Python 3 (ipykernel)",
   "language": "python",
   "name": "python3"
  },
  "language_info": {
   "codemirror_mode": {
    "name": "ipython",
    "version": 3
   },
   "file_extension": ".py",
   "mimetype": "text/x-python",
   "name": "python",
   "nbconvert_exporter": "python",
   "pygments_lexer": "ipython3",
   "version": "3.8.5"
  },
  "toc": {
   "base_numbering": 1,
   "nav_menu": {},
   "number_sections": true,
   "sideBar": true,
   "skip_h1_title": false,
   "title_cell": "Table of Contents",
   "title_sidebar": "Contents",
   "toc_cell": false,
   "toc_position": {
    "height": "calc(100% - 180px)",
    "left": "10px",
    "top": "150px",
    "width": "336.903px"
   },
   "toc_section_display": true,
   "toc_window_display": true
  },
  "varInspector": {
   "cols": {
    "lenName": 16,
    "lenType": 16,
    "lenVar": 40
   },
   "kernels_config": {
    "python": {
     "delete_cmd_postfix": "",
     "delete_cmd_prefix": "del ",
     "library": "var_list.py",
     "varRefreshCmd": "print(var_dic_list())"
    },
    "r": {
     "delete_cmd_postfix": ") ",
     "delete_cmd_prefix": "rm(",
     "library": "var_list.r",
     "varRefreshCmd": "cat(var_dic_list()) "
    }
   },
   "position": {
    "height": "720.696px",
    "left": "1396.52px",
    "right": "20px",
    "top": "151.986px",
    "width": "294.006px"
   },
   "types_to_exclude": [
    "module",
    "function",
    "builtin_function_or_method",
    "instance",
    "_Feature"
   ],
   "window_display": true
  }
 },
 "nbformat": 4,
 "nbformat_minor": 5
}
