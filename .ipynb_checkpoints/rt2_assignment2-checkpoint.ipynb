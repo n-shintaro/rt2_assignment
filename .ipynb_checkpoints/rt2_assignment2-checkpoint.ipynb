{
 "cells": [
  {
   "cell_type": "code",
   "execution_count": 1,
   "id": "bf24a4ff",
   "metadata": {},
   "outputs": [
    {
     "data": {
      "application/vnd.jupyter.widget-view+json": {
       "model_id": "dde74ea9976c4d8d94d6340ddebc81d7",
       "version_major": 2,
       "version_minor": 0
      },
      "text/plain": [
       "HBox(children=(Button(description='Start', layout=Layout(grid_area='b_start', width='auto'), style=ButtonStyle…"
      ]
     },
     "metadata": {},
     "output_type": "display_data"
    }
   ],
   "source": [
    "%matplotlib widget\n",
    "import numpy as np\n",
    "import matplotlib.pyplot as plt\n",
    "import jupyros as jr\n",
    "import rospy\n",
    "from nav_msgs.msg import Odometry\n",
    "from matplotlib import animation, rc\n",
    "from geometry_msgs.msg import Twist\n",
    "from ipywidgets import Button, Layout, ButtonStyle, GridBox, VBox, HBox\n",
    "import ipywidgets as widgets\n",
    "import time\n",
    "from rt2_assignment1.srv import Command\n",
    "from rt2_assignment1.srv import Timerequired\n",
    "import time\n",
    "\n",
    "rospy.init_node('user_interface')\n",
    "\n",
    "time_list = []\n",
    "start = time.time()\n",
    "vc = 0\n",
    "wc = 0\n",
    "\n",
    "def handle_time(req):\n",
    "    global time_list\n",
    "    time_list.append(req.time)\n",
    "    return True\n",
    "\n",
    "pub = rospy.Publisher('cmd_vel', Twist, queue_size=10)\n",
    "ui_client = rospy.ServiceProxy('/user_interface', Command)\n",
    "time_server = rospy.Service('time_required', Timerequired,handle_time)\n",
    "msg = Twist()\n",
    "linear_vel = 0\n",
    "angular_vel = 0\n",
    "\n",
    "x = 0\n",
    "\n",
    "b_start = Button(description='Start',\n",
    "layout=Layout(width='auto', align=\"center\", grid_area='b_start'),\n",
    "style=ButtonStyle(button_color='lightblue')\n",
    "           )\n",
    "\n",
    "b_stop = Button(description='Stop',\n",
    "layout=Layout(width='auto', align=\"center\", grid_area='b_stop'),\n",
    "style=ButtonStyle(button_color='moccasin')\n",
    "           )\n",
    "\n",
    "\n",
    "def on_b_start_clicked(hoge):\n",
    "    global x\n",
    "    if x == 0:\n",
    "        ui_client(\"start\")\n",
    "        x = 1\n",
    "\n",
    "def on_b_stop_clicked(hoge):\n",
    "    global x\n",
    "    if x == 1:\n",
    "        ui_client(\"stop\")\n",
    "        x = 0\n",
    "    \n",
    "b_start.on_click(on_b_start_clicked)\n",
    "b_stop.on_click(on_b_stop_clicked)\n",
    "HBox([b_start,b_stop])"
   ]
  },
  {
   "cell_type": "code",
   "execution_count": 2,
   "id": "028e5c16",
   "metadata": {},
   "outputs": [
    {
     "data": {
      "application/vnd.jupyter.widget-view+json": {
       "model_id": "ccf83ad1939647d1b9013b3be0a6af63",
       "version_major": 2,
       "version_minor": 0
      },
      "text/plain": [
       "FloatSlider(value=0.0, description='Linear velocity:', max=1.0)"
      ]
     },
     "metadata": {},
     "output_type": "display_data"
    },
    {
     "data": {
      "application/vnd.jupyter.widget-view+json": {
       "model_id": "b536fad7bdc9424e875f696f0f6f218e",
       "version_major": 2,
       "version_minor": 0
      },
      "text/plain": [
       "FloatSlider(value=0.0, description='Angular velocity:', max=1.0)"
      ]
     },
     "metadata": {},
     "output_type": "display_data"
    }
   ],
   "source": [
    "\n",
    "\n",
    "a = widgets.FloatSlider(min=0, max=1.0,description='Linear velocity:')\n",
    "display(a)\n",
    "\n",
    "b = widgets.FloatSlider(min=0, max=1.0,description='Angular velocity:')\n",
    "display(b)\n",
    "\n",
    "\n",
    "def on_value_change(change):\n",
    "    global linear_vel\n",
    "    linear_vel = change['new']\n",
    "    rospy.set_param(\"l_vel\",linear_vel)\n",
    "    \n",
    "def on_valueang_change(change):\n",
    "    global angular_vel \n",
    "    angular_vel = change['new']\n",
    "    rospy.set_param(\"a_vel\",angular_vel)\n",
    "    \n",
    "a.observe(on_value_change, names='value')\n",
    "b.observe(on_valueang_change, names='value')"
   ]
  },
  {
   "cell_type": "code",
   "execution_count": 3,
   "id": "9a6a2486",
   "metadata": {},
   "outputs": [],
   "source": [
    "b1 = Button(description='↑',\n",
    "layout=Layout(width='auto', align=\"center\", grid_area='b1'),\n",
    "# style=ButtonStyle(button_color='lightblue')\n",
    "           )\n",
    "b2 = Button(description='←',\n",
    "layout=Layout(width='auto', grid_area='b2'),\n",
    "# style=ButtonStyle(button_color='moccasin')\n",
    "           )\n",
    "b3 = Button(description='→',\n",
    "layout=Layout(width='auto', grid_area='b3'),\n",
    "# style=ButtonStyle(button_color='salmon')\n",
    "           )\n",
    "b4 = Button(description='↓',\n",
    "layout=Layout(width='auto', grid_area='b4'),\n",
    "# style=ButtonStyle(button_color='salmon')\n",
    "           )\n",
    "b5 = Button(description='Stop!',\n",
    "layout=Layout(width='auto', grid_area='b5'),\n",
    "style=ButtonStyle(button_color='salmon')\n",
    "           )\n",
    "\n",
    "\n",
    "def on_b1_clicked(hoge):\n",
    "    global msg,x,lenear_vel,angular_vel,vc,wc\n",
    "    if x == 1:\n",
    "        ui_client(\"stop\")\n",
    "        x = 0\n",
    "        time.sleep(1)\n",
    "    msg.linear.x = linear_vel*1\n",
    "    msg.angular.z = 0\n",
    "    vc = linear_vel*1\n",
    "    wc = 0\n",
    "    pub.publish(msg)\n",
    "    \n",
    "def on_b2_clicked(hoge):\n",
    "    global msg,x,lenear_vel,angular_vel,vc,wc\n",
    "    if x == 1:\n",
    "        ui_client(\"stop\")\n",
    "        x = 0\n",
    "        time.sleep(1)\n",
    "    msg.linear.x = 0\n",
    "    msg.angular.z = angular_vel*(-1)\n",
    "    vc = 0\n",
    "    wc = angular_vel*(-1)\n",
    "    pub.publish(msg)\n",
    "    \n",
    "def on_b3_clicked(hoge):\n",
    "    global msg,x,lenear_vel,angular_vel,vc,wc\n",
    "    if x == 1:\n",
    "        ui_client(\"stop\")\n",
    "        x = 0\n",
    "        time.sleep(1)\n",
    "    msg.linear.x = 0\n",
    "#     output = widgets.Output()\n",
    "#     with output:\n",
    "#         print(\"call 3\" + str(linear_vel) + str(angular_vel))\n",
    "    msg.angular.z = angular_vel*1\n",
    "    vc = 0\n",
    "    wc = angular_vel*1\n",
    "    pub.publish(msg)\n",
    "    \n",
    "def on_b4_clicked(hoge):\n",
    "    global msg,x,lenear_vel,angular_vel,vc,wc\n",
    "    if x == 1:\n",
    "        ui_client(\"stop\")\n",
    "        x = 0\n",
    "        time.sleep(1)\n",
    "    msg.linear.x = linear_vel*(-1)\n",
    "    msg.angular.z = 0\n",
    "    vc = linear_vel*(-1)\n",
    "    wc = 0\n",
    "    pub.publish(msg)\n",
    "    \n",
    "def on_b5_clicked(hoge):\n",
    "    global msg,x,lenear_vel,angular_vel,vc,wc\n",
    "    if x == 1:\n",
    "        ui_client(\"stop\")\n",
    "        x = 0\n",
    "        time.sleep(1)\n",
    "    msg.linear.x = 0\n",
    "    msg.angular.z = 0\n",
    "    vc =0\n",
    "    wc = 0\n",
    "    pub.publish(msg)\n",
    "    \n",
    "b1.on_click(on_b1_clicked)\n",
    "b2.on_click(on_b2_clicked)\n",
    "b3.on_click(on_b3_clicked)\n",
    "b4.on_click(on_b4_clicked)\n",
    "b5.on_click(on_b5_clicked)\n"
   ]
  },
  {
   "cell_type": "code",
   "execution_count": 4,
   "id": "9963c8ac",
   "metadata": {
    "scrolled": true
   },
   "outputs": [
    {
     "data": {
      "application/vnd.jupyter.widget-view+json": {
       "model_id": "8f780b0f82344ad79c2ea9b2299b0440",
       "version_major": 2,
       "version_minor": 0
      },
      "text/plain": [
       "GridBox(children=(Button(description='↑', layout=Layout(grid_area='b1', width='auto'), style=ButtonStyle()), B…"
      ]
     },
     "metadata": {},
     "output_type": "display_data"
    }
   ],
   "source": [
    "GridBox(children=[b1, b2, b3, b4],\n",
    "layout=Layout(\n",
    "width='20%',\n",
    "grid_template_rows='auto auto',\n",
    "grid_template_areas='''\n",
    "\" . b1 . \"\n",
    "\"b2 b4 b3 \"\n",
    "''')\n",
    ")"
   ]
  },
  {
   "cell_type": "code",
   "execution_count": 5,
   "id": "bf86b676",
   "metadata": {},
   "outputs": [
    {
     "data": {
      "application/vnd.jupyter.widget-view+json": {
       "model_id": "b4c63ba127fd46edb90fad475e1cfba2",
       "version_major": 2,
       "version_minor": 0
      },
      "text/plain": [
       "HBox(children=(Button(description='Stop!', layout=Layout(grid_area='b5', width='auto'), style=ButtonStyle(butt…"
      ]
     },
     "metadata": {},
     "output_type": "display_data"
    }
   ],
   "source": [
    "HBox([b5])"
   ]
  },
  {
   "cell_type": "code",
   "execution_count": 6,
   "id": "b69d46b0",
   "metadata": {},
   "outputs": [
    {
     "data": {
      "application/vnd.jupyter.widget-view+json": {
       "model_id": "74bb9ec64e164ec8a0fc269af3677c03",
       "version_major": 2,
       "version_minor": 0
      },
      "text/plain": [
       "Canvas(toolbar=Toolbar(toolitems=[('Home', 'Reset original view', 'home', 'home'), ('Back', 'Back to previous …"
      ]
     },
     "metadata": {},
     "output_type": "display_data"
    }
   ],
   "source": [
    "# First set up the figure and the axis \n",
    "fig, ax = plt.subplots()\n",
    "\n",
    "ax.set_xlim(( -5, 5))\n",
    "ax.set_ylim((-5, 5))\n",
    "\n",
    "line, = ax.plot([], [], 'ro')\n",
    "x_data=[]\n",
    "y_data=[]"
   ]
  },
  {
   "cell_type": "code",
   "execution_count": 7,
   "id": "811dd298",
   "metadata": {},
   "outputs": [
    {
     "data": {
      "application/vnd.jupyter.widget-view+json": {
       "model_id": "ad383d04a19f4711ba5e38eed5cb346b",
       "version_major": 2,
       "version_minor": 0
      },
      "text/plain": [
       "VBox(children=(HBox(children=(Button(description='Stop', style=ButtonStyle()),)), Output(layout=Layout(border=…"
      ]
     },
     "metadata": {},
     "output_type": "display_data"
    }
   ],
   "source": [
    "def init():\n",
    "    line.set_data([], [])\n",
    "    return (line,)\n",
    "\n",
    "\n",
    "def odom_callback(msg):\n",
    "    y_data.append(msg.pose.pose.position.y)\n",
    "    x_data.append(msg.pose.pose.position.x)\n",
    "\n",
    "\n",
    "def animate(i):\n",
    "    line.set_data(x_data, y_data)\n",
    "    return (line,)\n",
    "\n",
    "\n",
    "\n",
    "jr.subscribe('/odom', Odometry, odom_callback)\n"
   ]
  },
  {
   "cell_type": "code",
   "execution_count": 8,
   "id": "de545a08",
   "metadata": {
    "scrolled": false
   },
   "outputs": [
    {
     "data": {
      "application/vnd.jupyter.widget-view+json": {
       "model_id": "16f6cb19269c4c96abd8786c27df060a",
       "version_major": 2,
       "version_minor": 0
      },
      "text/plain": [
       "Canvas(toolbar=Toolbar(toolitems=[('Home', 'Reset original view', 'home', 'home'), ('Back', 'Back to previous …"
      ]
     },
     "metadata": {},
     "output_type": "display_data"
    }
   ],
   "source": [
    "fig2, ax2 = plt.subplots()\n",
    "# ax2.set_ylim((0, 10))\n",
    "left = np.array([1, 2])\n",
    "height = np.array([0, 0])\n",
    "label = [\"reached\", \"cancelled\"]"
   ]
  },
  {
   "cell_type": "code",
   "execution_count": 9,
   "id": "0840f2ea",
   "metadata": {},
   "outputs": [],
   "source": [
    "\n",
    "def update_cnt(hoge):\n",
    "#     plt.cla()\n",
    "    height[0] = rospy.get_param(\"reached_cnt\")\n",
    "    height[1] = rospy.get_param(\"cancelled_cnt\")\n",
    "    ax2.bar(left, height, tick_label=label, align=\"center\", color='blue')"
   ]
  },
  {
   "cell_type": "code",
   "execution_count": 10,
   "id": "10457d44",
   "metadata": {},
   "outputs": [],
   "source": [
    "# call the animator. blit=True means only re-draw the parts that have changed.\n",
    "\n",
    "anim = animation.FuncAnimation(fig, animate, init_func=init,\n",
    "                               frames=100, interval=20, blit=True)\n"
   ]
  },
  {
   "cell_type": "code",
   "execution_count": 11,
   "id": "0b65af78",
   "metadata": {},
   "outputs": [],
   "source": [
    "anim2 = animation.FuncAnimation(fig2, update_cnt,frames=100, interval = 20)"
   ]
  },
  {
   "cell_type": "code",
   "execution_count": 12,
   "id": "9ac20ed7",
   "metadata": {},
   "outputs": [
    {
     "data": {
      "application/vnd.jupyter.widget-view+json": {
       "model_id": "95d58a6c9531406591c394b0ffa08efb",
       "version_major": 2,
       "version_minor": 0
      },
      "text/plain": [
       "Canvas(toolbar=Toolbar(toolitems=[('Home', 'Reset original view', 'home', 'home'), ('Back', 'Back to previous …"
      ]
     },
     "metadata": {},
     "output_type": "display_data"
    },
    {
     "data": {
      "text/plain": [
       "Text(0.5, 0, 'Time [sec]')"
      ]
     },
     "execution_count": 12,
     "metadata": {},
     "output_type": "execute_result"
    }
   ],
   "source": [
    "fig3, ax3 = plt.subplots()\n",
    "# ax3.set_ylim((0, 10))\n",
    "ax3.set_title(\"a hist plot showing the time required to reach targets\")\n",
    "ax3.set_xlabel(\"Time [sec]\")"
   ]
  },
  {
   "cell_type": "code",
   "execution_count": 13,
   "id": "9ed345e0",
   "metadata": {},
   "outputs": [],
   "source": [
    "def update_time(hoge):\n",
    "    global time_list\n",
    "    ax3.hist(time_list,color='blue')"
   ]
  },
  {
   "cell_type": "code",
   "execution_count": 14,
   "id": "ebe30123",
   "metadata": {},
   "outputs": [],
   "source": [
    "anim3 = animation.FuncAnimation(fig3, update_time,frames=100, interval = 20)"
   ]
  },
  {
   "cell_type": "code",
   "execution_count": 15,
   "id": "46771296",
   "metadata": {
    "scrolled": true
   },
   "outputs": [
    {
     "name": "stdout",
     "output_type": "stream",
     "text": [
      "[]\n"
     ]
    }
   ],
   "source": [
    "print(time_list)"
   ]
  },
  {
   "cell_type": "code",
   "execution_count": 16,
   "id": "e542fe32",
   "metadata": {},
   "outputs": [],
   "source": [
    "# jr.live_plot(\"/cmd_vel/:linear.x:angular.z\", Twist, 10000)"
   ]
  },
  {
   "cell_type": "code",
   "execution_count": 17,
   "id": "4e51de42",
   "metadata": {},
   "outputs": [
    {
     "data": {
      "application/vnd.jupyter.widget-view+json": {
       "model_id": "5366305650bf453294cb44ea7b868114",
       "version_major": 2,
       "version_minor": 0
      },
      "text/plain": [
       "Canvas(toolbar=Toolbar(toolitems=[('Home', 'Reset original view', 'home', 'home'), ('Back', 'Back to previous …"
      ]
     },
     "metadata": {},
     "output_type": "display_data"
    }
   ],
   "source": [
    "# First set up the figure and the axis \n",
    "fig4, ax4 = plt.subplots()\n",
    "\n",
    "ax4.set_xlim(( 0, 500))\n",
    "ax4.set_ylim((-1.2, 1.2))\n",
    "\n",
    "line_vc, = ax4.plot([], [], 'r-', label = \"command linear\")\n",
    "line_wc, = ax4.plot([], [], 'g-', label = \"command angular\")\n",
    "line_va, = ax4.plot([], [], 'b-', label = \"actual linear\")\n",
    "line_wa, = ax4.plot([], [], 'y-', label = \"actual angular\")\n",
    "ax4.legend(bbox_to_anchor=(1, 1), loc='upper right', borderaxespad=0, fontsize=10)\n",
    "x4_data=[]\n",
    "vc_data=[]\n",
    "wc_data=[]\n",
    "va_data=[]\n",
    "wa_data=[]"
   ]
  },
  {
   "cell_type": "code",
   "execution_count": 18,
   "id": "ed65ba08",
   "metadata": {},
   "outputs": [
    {
     "data": {
      "application/vnd.jupyter.widget-view+json": {
       "model_id": "1e05bc4cda2e468bb698062bc4dbe181",
       "version_major": 2,
       "version_minor": 0
      },
      "text/plain": [
       "VBox(children=(HBox(children=(Button(description='Stop', style=ButtonStyle()),)), Output(layout=Layout(border=…"
      ]
     },
     "metadata": {},
     "output_type": "display_data"
    }
   ],
   "source": [
    "def init4():\n",
    "    line_vc.set_data([], [])\n",
    "    line_wc.set_data([], [])\n",
    "    line_va.set_data([], [])\n",
    "    line_wa.set_data([], [])\n",
    "    return (line_vc, line_wc, line_va, line_wa)\n",
    "\n",
    "\n",
    "\n",
    "def twist_callback(msg):\n",
    "    global vc,wc,start\n",
    "    vc_data.append(vc)\n",
    "    wc_data.append(wc)\n",
    "    va_data.append(msg.linear.x)\n",
    "    wa_data.append(msg.angular.z)\n",
    "    x4_data.append(time.time() - start)\n",
    "\n",
    "\n",
    "def animate4(i):\n",
    "    line_vc.set_data(x4_data,vc_data)\n",
    "    line_wc.set_data(x4_data,wc_data)\n",
    "    line_va.set_data(x4_data,va_data)\n",
    "    line_wa.set_data(x4_data,wa_data)\n",
    "    return (line_vc, line_wc, line_va, line_wa)\n",
    "\n",
    "\n",
    "\n",
    "jr.subscribe('/cmd_vel', Twist, twist_callback)\n"
   ]
  },
  {
   "cell_type": "code",
   "execution_count": 19,
   "id": "9126e5ba",
   "metadata": {},
   "outputs": [],
   "source": [
    "# call the animator. blit=True means only re-draw the parts that have changed.\n",
    "\n",
    "anim4 = animation.FuncAnimation(fig4, animate4, init_func=init4,\n",
    "                               frames=100, interval=20, blit=True)\n"
   ]
  },
  {
   "cell_type": "code",
   "execution_count": 20,
   "id": "4e6034f4",
   "metadata": {},
   "outputs": [
    {
     "name": "stdout",
     "output_type": "stream",
     "text": [
      "8.612143993377686\n"
     ]
    }
   ],
   "source": [
    "print(time.time() - start)"
   ]
  },
  {
   "cell_type": "code",
   "execution_count": null,
   "id": "df249a74",
   "metadata": {},
   "outputs": [],
   "source": []
  }
 ],
 "metadata": {
  "hide_input": false,
  "kernelspec": {
   "display_name": "Python 3",
   "language": "python",
   "name": "python3"
  },
  "language_info": {
   "codemirror_mode": {
    "name": "ipython",
    "version": 3
   },
   "file_extension": ".py",
   "mimetype": "text/x-python",
   "name": "python",
   "nbconvert_exporter": "python",
   "pygments_lexer": "ipython3",
   "version": "3.8.5"
  },
  "toc": {
   "base_numbering": 1,
   "nav_menu": {},
   "number_sections": true,
   "sideBar": true,
   "skip_h1_title": false,
   "title_cell": "Table of Contents",
   "title_sidebar": "Contents",
   "toc_cell": false,
   "toc_position": {},
   "toc_section_display": true,
   "toc_window_display": false
  },
  "varInspector": {
   "cols": {
    "lenName": 16,
    "lenType": 16,
    "lenVar": 40
   },
   "kernels_config": {
    "python": {
     "delete_cmd_postfix": "",
     "delete_cmd_prefix": "del ",
     "library": "var_list.py",
     "varRefreshCmd": "print(var_dic_list())"
    },
    "r": {
     "delete_cmd_postfix": ") ",
     "delete_cmd_prefix": "rm(",
     "library": "var_list.r",
     "varRefreshCmd": "cat(var_dic_list()) "
    }
   },
   "types_to_exclude": [
    "module",
    "function",
    "builtin_function_or_method",
    "instance",
    "_Feature"
   ],
   "window_display": false
  }
 },
 "nbformat": 4,
 "nbformat_minor": 5
}
