{
 "cells": [
  {
   "cell_type": "markdown",
   "id": "b6d982ec",
   "metadata": {},
   "source": [
    "\n"
   ]
  },
  {
   "cell_type": "markdown",
   "id": "8e3f9000",
   "metadata": {},
   "source": [
    "# Jupyter notebook for the control of an holonomic robot\n",
    "This jupyter notebook allow to control and monitor the relevant variables of an holonomic robot.\n",
    "\n",
    "## Import block\n",
    "In this block a \"/jupyter_node\" for the control of the a holonimic robot is created. \n",
    "\n",
    "More specifically, in this block the libraries required for the task are imported, including:\n",
    "- jupyros: for interacting with the ros simulation\n",
    "- ipwidgets: for using widgets such as buttons and sliders for the control of the robot\n",
    "- matplotlib: to display animated graphs of the relevant variables for monitoring the robot\n",
    "- actionlib: for interacting with the ros action\n",
    "- relevant ros msgs and srv: for communicating with the robot simulation"
   ]
  },
  {
   "cell_type": "code",
   "execution_count": 1,
   "id": "5641eb69",
   "metadata": {
    "ExecuteTime": {
     "end_time": "2021-06-06T23:10:17.981537Z",
     "start_time": "2021-06-06T23:10:16.458727Z"
    }
   },
   "outputs": [],
   "source": [
    "%matplotlib widget\n",
    "import numpy as np\n",
    "import collections\n",
    "\n",
    "import matplotlib.pyplot as plt\n",
    "from matplotlib import animation, rc\n",
    "import matplotlib.ticker as ticker\n",
    "\n",
    "from ipywidgets import Button, Layout, ButtonStyle, GridBox, VBox, HBox\n",
    "import ipywidgets as widgets\n",
    "\n",
    "import jupyros as jr\n",
    "import rospy\n",
    "\n",
    "from tf.transformations import euler_from_quaternion\n",
    "\n",
    "import actionlib\n",
    "import actionlib.msg\n",
    "import rt2_assignment1.msg\n",
    "from geometry_msgs.msg import Twist\n",
    "from rt2_assignment1.srv import Command\n",
    "from rosgraph_msgs.msg import Clock\n",
    "from nav_msgs.msg import Odometry\n",
    "\n",
    "#Control node initialization\n",
    "rospy.init_node('jupyter_node')\n",
    "\n",
    "# Global variable initialization\n",
    "global linear_set, angular_set, random_status\n",
    "\n",
    "linear_set = 0.0 \n",
    "angular_set = 0.0\n"
   ]
  },
  {
   "cell_type": "markdown",
   "id": "68a06958",
   "metadata": {},
   "source": [
    "## Control Block\n",
    "\n",
    "### Start and stop buttons\n",
    "\n",
    "In this block two buttons are created to interact with the robot simulation.\n",
    "A start button that triggers the \"go_to_point\" random movement of the robot and a stop bottom to set all the robot velocities to zero.\n",
    "The buttons are implement via a  service client that send a \"start\"/\"stop\" string to the \"Command\" service"
   ]
  },
  {
   "cell_type": "code",
   "execution_count": 2,
   "id": "f73768c6",
   "metadata": {
    "ExecuteTime": {
     "end_time": "2021-06-06T23:10:18.246346Z",
     "start_time": "2021-06-06T23:10:18.074312Z"
    }
   },
   "outputs": [
    {
     "data": {
      "application/vnd.jupyter.widget-view+json": {
       "model_id": "1fd79deff8044b778b31f13e2629efdb",
       "version_major": 2,
       "version_minor": 0
      },
      "text/plain": [
       "VBox(children=(GridBox(children=(Button(description='Start', layout=Layout(grid_area='Start', width='auto'), s…"
      ]
     },
     "metadata": {},
     "output_type": "display_data"
    }
   ],
   "source": [
    "# Start and stop button definition\n",
    "start  = Button(description='Start',layout=Layout(width='auto', align=\"center\", grid_area='Start'),style=ButtonStyle(button_color='green'))\n",
    "stop  = Button(description='Stop',layout=Layout(width='auto', grid_area='Stop'),style=ButtonStyle(button_color='red'))\n",
    "output = widgets.Output()\n",
    "\n",
    "#Node initialization\n",
    "ui_client = rospy.ServiceProxy('/user_interface', Command)\n",
    "action_service = actionlib.SimpleActionServer(\n",
    "        '/go_to_point', rt2_assignment1.msg.Control2_1Action, auto_start=False)\n",
    "action_client = actionlib.SimpleActionClient('/go_to_point', rt2_assignment1.msg.Control2_1Action)\n",
    "\n",
    "# Stop the robot and initialize its status\n",
    "ui_client(\"stop\")\n",
    "random_status = False\n",
    "\n",
    "# Output of the buttons\n",
    "def start_click(start):\n",
    "    global random_status\n",
    "    with output:\n",
    "        slider_lin = 1.0\n",
    "        slider_ang = 1.0\n",
    "        rospy.set_param(\"slider_lin_scale\",slider_lin)\n",
    "        rospy.set_param(\"slider_ang_scale\",slider_ang)\n",
    "        ui_client(\"start\")\n",
    "        if random_status == True:\n",
    "            print(\"I am already on my random way\")\n",
    "        random_status = True\n",
    "        print('Start clicked')\n",
    "        \n",
    "\n",
    "def stop_click(stop):\n",
    "    global random_status\n",
    "    with output:\n",
    "        ui_client(\"stop\")\n",
    "        if random_status == False:\n",
    "            print(\"I was already stopped\")\n",
    "        random_status = False        \n",
    "        print('Stop clicked')\n",
    "        \n",
    "    \n",
    "# Callback definition\n",
    "start.on_click(start_click)\n",
    "stop.on_click(stop_click)\n",
    "\n",
    "# Buttons display\n",
    "buttons = GridBox(children=[start, stop],layout=Layout(width='50%',grid_template_rows='auto auto',grid_template_columns='50% 50%',grid_template_areas='''\"Start Stop \"'''))\n",
    "widgets.VBox([buttons, output])\n"
   ]
  },
  {
   "cell_type": "markdown",
   "id": "ca24327d",
   "metadata": {},
   "source": [
    "### Robot task monitoring system\n",
    "In this section a check of the reached and canceled targets is done.\n",
    "A subscriber to the \"/go_to_point/result\" topic from the action \"Control2_1\" is introduced to monitor the number of target reached and canceled. Moreover, The time required to reach a target is recorded.\n",
    "The number of the reached and canceled target is shown in a barplot while, an histogram of the required time to reach a target is generated. Both the plots are automatically updated using python animations.\n",
    "\n",
    "Note: This parameters are relevant only if the random \"/go_to_point\" robot control mode is active"
   ]
  },
  {
   "cell_type": "code",
   "execution_count": 3,
   "id": "610c2273",
   "metadata": {
    "ExecuteTime": {
     "end_time": "2021-06-06T23:10:19.517725Z",
     "start_time": "2021-06-06T23:10:19.444702Z"
    }
   },
   "outputs": [
    {
     "data": {
      "application/vnd.jupyter.widget-view+json": {
       "model_id": "3d558fe13b1f46139cf34c90a7edfa32",
       "version_major": 2,
       "version_minor": 0
      },
      "text/plain": [
       "VBox(children=(HBox(children=(Button(description='Stop', style=ButtonStyle()),)), Output(layout=Layout(border=…"
      ]
     },
     "metadata": {},
     "output_type": "display_data"
    }
   ],
   "source": [
    "## Subscribe to the /go_to_point/result topic\n",
    "hist_time = []\n",
    "bar_y = [0, 0]\n",
    "\n",
    "def result_callback(msg):\n",
    "    if msg.result.reached == True:\n",
    "        bar_y[1] = bar_y[1] + 1 \n",
    "        hist_time.append(msg.header.stamp.secs - msg.status.goal_id.stamp.secs)\n",
    "    else:\n",
    "        bar_y[0] = bar_y[0] + 1 \n",
    "# Subscribe to the /go_to_point/results topic\n",
    "jr.subscribe('/go_to_point/result', rt2_assignment1.msg.Control2_1Action, result_callback)    "
   ]
  },
  {
   "cell_type": "code",
   "execution_count": 4,
   "id": "bcf6cdf5",
   "metadata": {
    "ExecuteTime": {
     "end_time": "2021-06-06T23:10:25.611437Z",
     "start_time": "2021-06-06T23:10:25.549190Z"
    }
   },
   "outputs": [
    {
     "data": {
      "application/vnd.jupyter.widget-view+json": {
       "model_id": "a088da17e0d244c2b01f1473b75eb72e",
       "version_major": 2,
       "version_minor": 0
      },
      "text/plain": [
       "Canvas(toolbar=Toolbar(toolitems=[('Home', 'Reset original view', 'home', 'home'), ('Back', 'Back to previous …"
      ]
     },
     "metadata": {},
     "output_type": "display_data"
    }
   ],
   "source": [
    "# Callback and data for the barplot with the result reached and cancelled\n",
    "bar_fig = plt.figure()\n",
    "ax_bar = bar_fig.add_subplot(111)\n",
    "bar_x = ['Cancelled', 'Reached']\n",
    "ax_bar.set_ylabel(\"Target summary\")\n",
    "rects = plt.bar(bar_x, bar_y, color='c')\n",
    "\n",
    "def animate_rects(i):\n",
    "    for rec, val in zip(rects, bar_y):\n",
    "         rec.set_height(val)   \n",
    "    ax_bar.set_ylim([0, max(bar_y)+1]) \n",
    "    return rects, \n",
    "\n",
    "# Create an animation function for the barplot\n",
    "anim_reached = animation.FuncAnimation(bar_fig, animate_rects, blit=True)  "
   ]
  },
  {
   "cell_type": "code",
   "execution_count": 5,
   "id": "c67e7694",
   "metadata": {
    "ExecuteTime": {
     "end_time": "2021-06-06T23:10:26.182132Z",
     "start_time": "2021-06-06T23:10:26.048446Z"
    }
   },
   "outputs": [
    {
     "data": {
      "application/vnd.jupyter.widget-view+json": {
       "model_id": "7e40d3e7c3b54c7c95d4292e808bb6b9",
       "version_major": 2,
       "version_minor": 0
      },
      "text/plain": [
       "Canvas(toolbar=Toolbar(toolitems=[('Home', 'Reset original view', 'home', 'home'), ('Back', 'Back to previous …"
      ]
     },
     "metadata": {},
     "output_type": "display_data"
    },
    {
     "ename": "NameError",
     "evalue": "name 'np' is not defined",
     "output_type": "error",
     "traceback": [
      "\u001b[0;31m---------------------------------------------------------------------------\u001b[0m",
      "\u001b[0;31mNameError\u001b[0m                                 Traceback (most recent call last)",
      "\u001b[0;32m/tmp/ipykernel_16625/2699549932.py\u001b[0m in \u001b[0;36m<module>\u001b[0;34m\u001b[0m\n\u001b[1;32m      6\u001b[0m \u001b[0;34m\u001b[0m\u001b[0m\n\u001b[1;32m      7\u001b[0m \u001b[0;31m# Fixing bin edges\u001b[0m\u001b[0;34m\u001b[0m\u001b[0;34m\u001b[0m\u001b[0;34m\u001b[0m\u001b[0m\n\u001b[0;32m----> 8\u001b[0;31m \u001b[0mHIST_BINS\u001b[0m \u001b[0;34m=\u001b[0m \u001b[0mnp\u001b[0m\u001b[0;34m.\u001b[0m\u001b[0mlinspace\u001b[0m\u001b[0;34m(\u001b[0m\u001b[0;36m5\u001b[0m\u001b[0;34m,\u001b[0m \u001b[0;36m40\u001b[0m\u001b[0;34m,\u001b[0m \u001b[0;36m35\u001b[0m\u001b[0;34m)\u001b[0m\u001b[0;34m\u001b[0m\u001b[0;34m\u001b[0m\u001b[0m\n\u001b[0m\u001b[1;32m      9\u001b[0m \u001b[0mn\u001b[0m\u001b[0;34m,\u001b[0m \u001b[0m_\u001b[0m \u001b[0;34m=\u001b[0m \u001b[0mnp\u001b[0m\u001b[0;34m.\u001b[0m\u001b[0mhistogram\u001b[0m\u001b[0;34m(\u001b[0m\u001b[0mhist_time\u001b[0m\u001b[0;34m,\u001b[0m \u001b[0mHIST_BINS\u001b[0m\u001b[0;34m)\u001b[0m\u001b[0;34m\u001b[0m\u001b[0;34m\u001b[0m\u001b[0m\n\u001b[1;32m     10\u001b[0m \u001b[0;34m\u001b[0m\u001b[0m\n",
      "\u001b[0;31mNameError\u001b[0m: name 'np' is not defined"
     ]
    }
   ],
   "source": [
    "# Callback and data for the histogram with the required time\n",
    "hist_fig, ax_hist = plt.subplots()\n",
    "ax_hist.set_xlabel(\"Time to target\")\n",
    "ax_hist.set_ylabel(\"Occurencies\")\n",
    "ax_hist.set_ylim([0, 1]) \n",
    "\n",
    "# Fixing bin edges\n",
    "HIST_BINS = np.linspace(5, 40, 35)\n",
    "n, _ = np.histogram(hist_time, HIST_BINS)\n",
    "\n",
    "\n",
    "_, _, bar_container = ax_hist.hist(hist_time, HIST_BINS, lw=1,ec=\"yellow\", fc=\"green\", alpha=0.5)\n",
    "\n",
    "\n",
    "def animate_hist(i):    \n",
    "        n, _ = np.histogram(hist_time, HIST_BINS)\n",
    "        ax_hist.hist(hist_time, HIST_BINS, lw=1,ec=\"yellow\", fc=\"green\", alpha=0.5)\n",
    "        ax_hist.autoscale()\n",
    "        \n",
    "\n",
    "# Create an animation function for the histogram\n",
    "anim_hist = animation.FuncAnimation(hist_fig, animate_hist, blit=True) \n"
   ]
  },
  {
   "cell_type": "markdown",
   "id": "a7caabb4",
   "metadata": {
    "ExecuteTime": {
     "end_time": "2021-05-29T20:14:19.026334Z",
     "start_time": "2021-05-29T20:14:19.018683Z"
    }
   },
   "source": [
    "### Slider commands\n",
    "\n",
    "Two sliders are here implemented to modulate the linear and angular velocity of the holonomic robot.\n",
    "The slider can be used it two ways:\n",
    "- If the random \"go_to_poit\" behaviour is on the sliders simply modulate the velocities of the robot via two server parameters.\n",
    "- If the manual mode is active they set directly the velocity publishing on the /cmd_vel topic of the robot\n",
    "\n",
    "Note: Every time that the random behaviour is triggered the service parameters are automatically set to 1.0, and the value displayed by the sliders ignored."
   ]
  },
  {
   "cell_type": "code",
   "execution_count": null,
   "id": "15883e42",
   "metadata": {
    "ExecuteTime": {
     "end_time": "2021-06-06T23:10:30.627491Z",
     "start_time": "2021-06-06T23:10:30.561631Z"
    },
    "scrolled": true
   },
   "outputs": [],
   "source": [
    "pub = rospy.Publisher('cmd_vel', Twist, queue_size=10)\n",
    "\n",
    "msg = Twist()\n",
    "\n",
    "a = widgets.FloatSlider(min=0.0, max=1.0, description='Linear vel.')\n",
    "display(a)\n",
    "\n",
    "b = widgets.FloatSlider(min=0.0, max=1.0, description='Angular vel.')\n",
    "display(b)\n",
    "\n",
    "\n",
    "def on_value_change(change):\n",
    "    if random_status == False:\n",
    "        msg.linear.x = change['new']\n",
    "        pub.publish(msg)\n",
    "    else:\n",
    "        slider_lin = change['new']\n",
    "        rospy.set_param(\"slider_lin_scale\",slider_lin)\n",
    "        print(\"Random position movement active, velocity modulated\")\n",
    "    \n",
    "def on_valueang_change(change):\n",
    "    if random_status == False:\n",
    "        msg.angular.z = change['new']\n",
    "        pub.publish(msg)\n",
    "    else:\n",
    "        slider_ang = change['new']\n",
    "        rospy.set_param(\"slider_ang_scale\",slider_ang)\n",
    "        print(\"Random position movement active, angular velocity modulated\")\n",
    "\n",
    "a.observe(on_value_change, names='value')\n",
    "b.observe(on_valueang_change, names='value')\n"
   ]
  },
  {
   "cell_type": "markdown",
   "id": "d264e468",
   "metadata": {},
   "source": [
    "### Control via buttons\n",
    "\n",
    "Five buttons are here implemented to have a manual control of the holonomic robot.\n",
    "The buttons can be used to define the robot direction while the value of the andula and lineaer speeds are set by the sliders previously introduced.\n",
    "The buttons are directly publishing on the /cmd_vel topic\n",
    "\n",
    "Note: If the random \"go_to_point\" behaviour of the robot is active and a button is pressed the robot is stopped in its position and the random movement interrupted updating the global variable \"random_status\". By pressing the second time the desired direction the robot will stat moving respecting the velocity defined by the sliders"
   ]
  },
  {
   "cell_type": "code",
   "execution_count": 6,
   "id": "c67b1937",
   "metadata": {
    "ExecuteTime": {
     "end_time": "2021-06-06T23:10:34.060121Z",
     "start_time": "2021-06-06T23:10:33.926083Z"
    }
   },
   "outputs": [
    {
     "data": {
      "application/vnd.jupyter.widget-view+json": {
       "model_id": "177c906cd9a440b5b9250ec09df13499",
       "version_major": 2,
       "version_minor": 0
      },
      "text/plain": [
       "GridBox(children=(Button(description='↑', layout=Layout(grid_area='W', width='auto'), style=ButtonStyle(button…"
      ]
     },
     "metadata": {},
     "output_type": "display_data"
    }
   ],
   "source": [
    "up  = Button(description='↑',layout=Layout(width='auto', align=\"center\", grid_area='W'),style=ButtonStyle(button_color='gray'))\n",
    "left  = Button(description='←',layout=Layout(width='auto', grid_area='A'),style=ButtonStyle(button_color='gray'))\n",
    "stop_asd  = Button(description='Alt',layout=Layout(width='auto', grid_area='Alt'),style=ButtonStyle(button_color='red'))\n",
    "right = Button(description='→',layout=Layout(width='auto', grid_area='D'),style=ButtonStyle(button_color='gray'))\n",
    "down = Button(description='↓',layout=Layout(width='auto', grid_area='S'),style=ButtonStyle(button_color='gray'))\n",
    "\n",
    "# Output of the buttons for moving\n",
    "def up_click(up):\n",
    "    global random_status, linear_set, angular_set\n",
    "    if random_status == True:\n",
    "        ui_client(\"stop\")\n",
    "        print(\"Random go to point stopped, click again to start\")\n",
    "        random_status = False\n",
    "    elif random_status == False:\n",
    "        if linear_set == 0.0:\n",
    "            print(\"Linear speed set to zero. Change it to make me move.\")\n",
    "        else:\n",
    "            msg.linear.x = linear_set\n",
    "            msg.angular.z = 0.0\n",
    "            pub.publish(msg)\n",
    "            print(\"Go straight\")     \n",
    "\n",
    "def down_click(down):\n",
    "    global random_status, linear_set, angular_set\n",
    "    if random_status == True:\n",
    "        ui_client(\"stop\")\n",
    "        print(\"Random go to point stopped, click again to start\")\n",
    "        random_status = False\n",
    "    elif random_status == False:\n",
    "        if linear_set == 0.0:\n",
    "            print(\"Linear speed set to zero. Change it to make me move.\")\n",
    "        else:\n",
    "            msg.linear.x = -linear_set\n",
    "            msg.angular.z = angular_set\n",
    "            linear_set = msg.linear.x \n",
    "            angular_set = msg.angular.z \n",
    "            pub.publish(msg)\n",
    "            print(\"Shrimp style\")\n",
    "        \n",
    "def right_click(right):\n",
    "    global random_status, linear_set, angular_set\n",
    "    if random_status == True:\n",
    "        ui_client(\"stop\")\n",
    "        print(\"Random go to point stopped, click again to start\")\n",
    "        random_status = False\n",
    "    elif random_status == False:\n",
    "        if angular_set == 0.0:\n",
    "            print(\"Angular speed set to zero. Change it to make me turn.\")\n",
    "        else:\n",
    "            msg.linear.x = linear_set\n",
    "            msg.angular.z = angular_set\n",
    "            pub.publish(msg)\n",
    "            print(\"Turn right\")\n",
    "        \n",
    "def left_click(left):\n",
    "    global random_status, linear_set, angular_set\n",
    "    if random_status == True:\n",
    "        ui_client(\"stop\")\n",
    "        print(\"Random go to point stopped, click again to start\")\n",
    "        random_status = False\n",
    "    elif random_status == False:\n",
    "        if angular_set == 0.0:\n",
    "            print(\"Angular speed set to zero. Change it to make me turn.\")\n",
    "        else:\n",
    "            msg.linear.x = linear_set\n",
    "            msg.angular.z = -angular_set\n",
    "            pub.publish(msg)\n",
    "            print(\"Turn left\")\n",
    "\n",
    "        \n",
    "# Output of the button for stopping       \n",
    "def stop_asd_click(stop_asd):\n",
    "    global random_status, linear_set, angular_set\n",
    "    if random_status == True:\n",
    "        ui_client(\"stop\")\n",
    "        print(\"Random go to point stopped, manual mode active.\")\n",
    "        random_status = False\n",
    "    elif random_status == False:\n",
    "        msg.linear.x = 0.0\n",
    "        msg.angular.z = 0.0\n",
    "        pub.publish(msg)\n",
    "        print('Robot stopped')\n",
    "\n",
    "# Callback definition\n",
    "up.on_click(up_click)\n",
    "down.on_click(down_click)\n",
    "right.on_click(right_click)\n",
    "left.on_click(left_click)\n",
    "stop_asd.on_click(stop_asd_click)\n",
    "\n",
    "# Buttons display\n",
    "buttons = GridBox(children=[start, stop],layout=Layout(width='50%',grid_template_rows='auto auto',grid_template_columns='50% 50%',grid_template_areas='''\"Start Stop \"'''))\n",
    "widgets.VBox([buttons, output])\n",
    "\n",
    "GridBox(children=[up,  left, stop_asd, right, down],layout=Layout(width='50%',grid_template_rows='auto auto',grid_template_columns='33% 33% 33%',grid_template_areas='''\" . W . \"\"A Alt D \"\".S .\"'''))"
   ]
  },
  {
   "cell_type": "markdown",
   "id": "d9af290e",
   "metadata": {},
   "source": [
    "## Display\n",
    "### Visualize robot movement\n",
    "This block displays the robot position in its predefined environment. The robot position is described as a red dot while a gray arrow describes its orientation. To speed-up the plotting process not the whole robot trajectory is displayer but only the most recent positions.\n",
    "The arrow that defines the robot orientation instead, is continuously updated.\n",
    "The information about the robot position both in terms of orientation and pse is acquired subscribing to the /Odometry topic. "
   ]
  },
  {
   "cell_type": "code",
   "execution_count": 7,
   "id": "f9f733aa",
   "metadata": {
    "ExecuteTime": {
     "end_time": "2021-06-06T22:11:46.901240Z",
     "start_time": "2021-06-06T22:11:46.797743Z"
    },
    "scrolled": false
   },
   "outputs": [
    {
     "data": {
      "application/vnd.jupyter.widget-view+json": {
       "model_id": "a6f8aee97c044900a6688316e980a0d4",
       "version_major": 2,
       "version_minor": 0
      },
      "text/plain": [
       "Canvas(toolbar=Toolbar(toolitems=[('Home', 'Reset original view', 'home', 'home'), ('Back', 'Back to previous …"
      ]
     },
     "metadata": {},
     "output_type": "display_data"
    }
   ],
   "source": [
    "# First set up the figures and the axis \n",
    "    # Robot position and orientation\n",
    "fig, ax = plt.subplots()\n",
    "ax.set_xlim(( -10, 10))\n",
    "ax.set_ylim((-10, 10))\n",
    "ax.set_aspect(\"equal\")\n",
    "plt.xlabel(\"X\")\n",
    "plt.ylabel(\"Y\")\n",
    "plt.title(\"Robot positon\")\n",
    "\n",
    "line, = ax.plot([], [], 'ro', markersize=\"5\")\n",
    "\n",
    "x_data =  collections.deque(maxlen=300)\n",
    "y_data = collections.deque(maxlen=300)\n",
    "theta_data = collections.deque(maxlen=300)\n",
    "\n",
    "#quiver initialization\n",
    "Q = ax.quiver(1,1,1,1, alpha = 0)\n",
    "\n",
    "def init():\n",
    "    line.set_data([], [])\n",
    "    return (line,)\n",
    "    \n",
    "def animate(i):\n",
    "    global Q\n",
    "    Q.remove()\n",
    "    \n",
    "    line.set_data(x_data, y_data)     \n",
    "    delta = 0.2\n",
    "    X = x_data[-1] + delta * np.cos(theta_data[-1])\n",
    "    Y = y_data[-1] + delta * np.sin(theta_data[-1])\n",
    "    U = delta * np.cos(theta_data[-1]) + np.cos(theta_data[-1])\n",
    "    V = delta * np.sin(theta_data[-1]) + np.sin(theta_data[-1])\n",
    "    Q = ax.quiver(X, Y, U, V,scale = 0.5, color='k', pivot = 'tail', units='xy', alpha=0.6, edgecolor = 'gray')\n",
    "    return (line, Q)\n",
    "\n",
    "def odom_callback(msg):\n",
    "    y_data.append(msg.pose.pose.position.y)\n",
    "    x_data.append(msg.pose.pose.position.x)\n",
    "    quaternion = (msg.pose.pose.orientation.x, msg.pose.pose.orientation.y,msg.pose.pose.orientation.z, msg.pose.pose.orientation.w)\n",
    "    euler_angles = euler_from_quaternion(quaternion)\n",
    "    theta_data.append(euler_angles[2]) \n",
    "      \n",
    "                  \n",
    "# Read robot odometry\n",
    "jr.subscribe('/odom', Odometry, odom_callback)\n",
    "\n",
    "# call the animator. blit=True means only re-draw the parts that have changed.)\n",
    "anim_position = animation.FuncAnimation(fig, animate, init_func=init, blit=True)\n"
   ]
  },
  {
   "cell_type": "markdown",
   "id": "6b5a7d39",
   "metadata": {},
   "source": [
    "### Velocity display\n",
    "A live comparison of the actual robot speed with respect to the set speed is here shown.\n",
    "The information about the robot angular and linear velocity are acquired with two subscribers. One that take the information about the actual robot velocities form the /odom topics and the other one that reads the desired velocities from the /cmd_vel topic.\n",
    "The four values are displayed on the same plot."
   ]
  },
  {
   "cell_type": "code",
   "execution_count": 8,
   "id": "103964c6",
   "metadata": {
    "ExecuteTime": {
     "end_time": "2021-06-06T22:11:48.165760Z",
     "start_time": "2021-06-06T22:11:48.002824Z"
    },
    "scrolled": true
   },
   "outputs": [
    {
     "data": {
      "application/vnd.jupyter.widget-view+json": {
       "model_id": "46335cfeaa864ebaad7236d71cffff26",
       "version_major": 2,
       "version_minor": 0
      },
      "text/plain": [
       "Canvas(toolbar=Toolbar(toolitems=[('Home', 'Reset original view', 'home', 'home'), ('Back', 'Back to previous …"
      ]
     },
     "metadata": {},
     "output_type": "display_data"
    }
   ],
   "source": [
    "# Velocity feedback\n",
    "fig_vel, ax_vel = plt.subplots()\n",
    "ax_vel.set_xlim(0, 100)\n",
    "ax_vel.set_ylim((-1.1, 1.1))\n",
    "plt.title(\"Velocity check\")\n",
    "plt.xlabel(\"Time [s]\")\n",
    "plt.ylabel(\"Velocity\")\n",
    "# Array initilaization\n",
    "\n",
    "time_vect = collections.deque(maxlen=400)\n",
    "vel_target = collections.deque(maxlen=400)\n",
    "vel_current = collections.deque(maxlen=400)\n",
    "angular_target = collections.deque(maxlen=400)\n",
    "angular_current = collections.deque(maxlen=400)\n",
    "\n",
    "#Line initialization and color definition\n",
    "    # linear velocity\n",
    "line_vel_target, = ax_vel.plot([], [], 'ob', markersize='5')\n",
    "line_vel_current, = ax_vel.plot([], [], 'or', markersize='2.5')\n",
    "    # angular velocity\n",
    "line_ang_target, = ax_vel.plot([], [], 'oc', markersize='5')\n",
    "line_ang_current, = ax_vel.plot([], [], 'og', markersize='1.5')\n",
    "\n",
    "\n",
    "def init_vel():\n",
    "    # linear velocity lines\n",
    "    line_vel_target.set_data([], [])\n",
    "    line_vel_current.set_data([], [])    \n",
    "    # angular velocity lines\n",
    "    line_ang_target.set_data([], [])\n",
    "    line_ang_current.set_data([], [])\n",
    "    \n",
    "    #return (line_vel_current, line_vel_target, ang_vel_current, ang_vel_target,)  \n",
    "    return (line_vel_target, line_ang_target, line_vel_current, line_ang_current)\n",
    "\n",
    "def animate_vel(i):   \n",
    "    ax_vel.legend([line_vel_target, line_ang_target, line_vel_current, line_ang_current], ['Cmd. linear', 'Cmd. angular', 'Linear Vel.', 'Angular Vel.'], loc = 'lower left')\n",
    "    \n",
    "    # linear velocity lines\n",
    "    line_vel_target.set_data(time_vect, vel_target)   \n",
    "    line_vel_current.set_data(time_vect, vel_current)  \n",
    "    # angular velocity lines\n",
    "    line_ang_target.set_data(time_vect, angular_target) \n",
    "    line_ang_current.set_data(time_vect, angular_current) \n",
    "    \n",
    "    return (line_vel_target, line_ang_target, line_vel_current, line_ang_current)\n",
    "\n",
    "def vel_callback(msg_cmd):   \n",
    "    \n",
    "    time_vect.append(rospy.get_time())       \n",
    "    vel_target.append(msg_cmd.linear.x)  \n",
    "    angular_target.append(msg_cmd.angular.z)  \n",
    "    x_min = max([0, max(time_vect) - 20]) \n",
    "    x_max = max([100, max(time_vect)])\n",
    "    ax_vel.set_xlim( x_min, x_max )\n",
    "    \n",
    "def odom_speed_callback(msg_odom):       \n",
    "    vel_current.append(msg_odom.twist.twist.linear.x) \n",
    "    angular_current.append(-1.85*msg_odom.twist.twist.angular.z)\n",
    "\n",
    "# Read robot velocity\n",
    "jr.subscribe('cmd_vel', Twist, vel_callback)\n",
    "# Read robot odometry\n",
    "jr.subscribe('odom', Odometry, odom_speed_callback)\n",
    "\n",
    "# Animation function for velocity check\n",
    "anim_velocity = animation.FuncAnimation(fig_vel, animate_vel, frames = 1, init_func=init_vel, blit=True)\n"
   ]
  },
  {
   "cell_type": "code",
   "execution_count": null,
   "id": "f80e3125",
   "metadata": {},
   "outputs": [],
   "source": []
  },
  {
   "cell_type": "code",
   "execution_count": null,
   "id": "9fc138de",
   "metadata": {},
   "outputs": [],
   "source": []
  },
  {
   "cell_type": "code",
   "execution_count": null,
   "id": "8b227983",
   "metadata": {},
   "outputs": [],
   "source": []
  },
  {
   "cell_type": "code",
   "execution_count": null,
   "id": "0a6dc8fd",
   "metadata": {},
   "outputs": [],
   "source": []
  }
 ],
 "metadata": {
  "hide_input": false,
  "kernelspec": {
   "display_name": "Python 3 (ipykernel)",
   "language": "python",
   "name": "python3"
  },
  "language_info": {
   "codemirror_mode": {
    "name": "ipython",
    "version": 3
   },
   "file_extension": ".py",
   "mimetype": "text/x-python",
   "name": "python",
   "nbconvert_exporter": "python",
   "pygments_lexer": "ipython3",
   "version": "3.8.5"
  },
  "toc": {
   "base_numbering": 1,
   "nav_menu": {},
   "number_sections": true,
   "sideBar": true,
   "skip_h1_title": false,
   "title_cell": "Table of Contents",
   "title_sidebar": "Contents",
   "toc_cell": false,
   "toc_position": {},
   "toc_section_display": true,
   "toc_window_display": false
  },
  "varInspector": {
   "cols": {
    "lenName": 16,
    "lenType": 16,
    "lenVar": 40
   },
   "kernels_config": {
    "python": {
     "delete_cmd_postfix": "",
     "delete_cmd_prefix": "del ",
     "library": "var_list.py",
     "varRefreshCmd": "print(var_dic_list())"
    },
    "r": {
     "delete_cmd_postfix": ") ",
     "delete_cmd_prefix": "rm(",
     "library": "var_list.r",
     "varRefreshCmd": "cat(var_dic_list()) "
    }
   },
   "types_to_exclude": [
    "module",
    "function",
    "builtin_function_or_method",
    "instance",
    "_Feature"
   ],
   "window_display": false
  }
 },
 "nbformat": 4,
 "nbformat_minor": 5
}
